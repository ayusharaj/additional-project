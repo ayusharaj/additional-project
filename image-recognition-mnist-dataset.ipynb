{
 "cells": [
  {
   "cell_type": "code",
   "execution_count": 1,
   "id": "20aafb57",
   "metadata": {
    "_cell_guid": "b1076dfc-b9ad-4769-8c92-a6c4dae69d19",
    "_uuid": "8f2839f25d086af736a60e9eeb907d3b93b6e0e5",
    "execution": {
     "iopub.execute_input": "2022-12-11T11:58:13.742923Z",
     "iopub.status.busy": "2022-12-11T11:58:13.742025Z",
     "iopub.status.idle": "2022-12-11T11:58:19.913144Z",
     "shell.execute_reply": "2022-12-11T11:58:19.911894Z"
    },
    "papermill": {
     "duration": 6.186729,
     "end_time": "2022-12-11T11:58:19.916204",
     "exception": false,
     "start_time": "2022-12-11T11:58:13.729475",
     "status": "completed"
    },
    "tags": []
   },
   "outputs": [],
   "source": [
    "from tensorflow import keras\n",
    "from keras.datasets import mnist\n",
    "from keras import models\n",
    "from keras import layers"
   ]
  },
  {
   "cell_type": "code",
   "execution_count": 2,
   "id": "70179782",
   "metadata": {
    "execution": {
     "iopub.execute_input": "2022-12-11T11:58:19.932985Z",
     "iopub.status.busy": "2022-12-11T11:58:19.932226Z",
     "iopub.status.idle": "2022-12-11T11:58:22.368492Z",
     "shell.execute_reply": "2022-12-11T11:58:22.367161Z"
    },
    "papermill": {
     "duration": 2.447797,
     "end_time": "2022-12-11T11:58:22.371204",
     "exception": false,
     "start_time": "2022-12-11T11:58:19.923407",
     "status": "completed"
    },
    "tags": []
   },
   "outputs": [
    {
     "name": "stdout",
     "output_type": "stream",
     "text": [
      "Downloading data from https://storage.googleapis.com/tensorflow/tf-keras-datasets/mnist.npz\n",
      "11493376/11490434 [==============================] - 1s 0us/step\n",
      "11501568/11490434 [==============================] - 1s 0us/step\n"
     ]
    }
   ],
   "source": [
    "(train_images,train_labels),(test_images,test_labels)=mnist.load_data()"
   ]
  },
  {
   "cell_type": "code",
   "execution_count": 3,
   "id": "03ad49cd",
   "metadata": {
    "execution": {
     "iopub.execute_input": "2022-12-11T11:58:22.390373Z",
     "iopub.status.busy": "2022-12-11T11:58:22.389334Z",
     "iopub.status.idle": "2022-12-11T11:58:22.398987Z",
     "shell.execute_reply": "2022-12-11T11:58:22.398025Z"
    },
    "papermill": {
     "duration": 0.021844,
     "end_time": "2022-12-11T11:58:22.401427",
     "exception": false,
     "start_time": "2022-12-11T11:58:22.379583",
     "status": "completed"
    },
    "tags": []
   },
   "outputs": [
    {
     "data": {
      "text/plain": [
       "(60000, 28, 28)"
      ]
     },
     "execution_count": 3,
     "metadata": {},
     "output_type": "execute_result"
    }
   ],
   "source": [
    "train_images.shape"
   ]
  },
  {
   "cell_type": "code",
   "execution_count": 4,
   "id": "fa046270",
   "metadata": {
    "execution": {
     "iopub.execute_input": "2022-12-11T11:58:22.420411Z",
     "iopub.status.busy": "2022-12-11T11:58:22.419984Z",
     "iopub.status.idle": "2022-12-11T11:58:22.426836Z",
     "shell.execute_reply": "2022-12-11T11:58:22.425573Z"
    },
    "papermill": {
     "duration": 0.018996,
     "end_time": "2022-12-11T11:58:22.428950",
     "exception": false,
     "start_time": "2022-12-11T11:58:22.409954",
     "status": "completed"
    },
    "tags": []
   },
   "outputs": [
    {
     "data": {
      "text/plain": [
       "60000"
      ]
     },
     "execution_count": 4,
     "metadata": {},
     "output_type": "execute_result"
    }
   ],
   "source": [
    "len(train_labels)"
   ]
  },
  {
   "cell_type": "code",
   "execution_count": 5,
   "id": "e4b92190",
   "metadata": {
    "execution": {
     "iopub.execute_input": "2022-12-11T11:58:22.448542Z",
     "iopub.status.busy": "2022-12-11T11:58:22.448063Z",
     "iopub.status.idle": "2022-12-11T11:58:22.455950Z",
     "shell.execute_reply": "2022-12-11T11:58:22.454866Z"
    },
    "papermill": {
     "duration": 0.02091,
     "end_time": "2022-12-11T11:58:22.458370",
     "exception": false,
     "start_time": "2022-12-11T11:58:22.437460",
     "status": "completed"
    },
    "tags": []
   },
   "outputs": [
    {
     "data": {
      "text/plain": [
       "array([5, 0, 4, ..., 5, 6, 8], dtype=uint8)"
      ]
     },
     "execution_count": 5,
     "metadata": {},
     "output_type": "execute_result"
    }
   ],
   "source": [
    "train_labels"
   ]
  },
  {
   "cell_type": "code",
   "execution_count": 6,
   "id": "1d8beeef",
   "metadata": {
    "execution": {
     "iopub.execute_input": "2022-12-11T11:58:22.479871Z",
     "iopub.status.busy": "2022-12-11T11:58:22.478655Z",
     "iopub.status.idle": "2022-12-11T11:58:22.485252Z",
     "shell.execute_reply": "2022-12-11T11:58:22.484440Z"
    },
    "papermill": {
     "duration": 0.020412,
     "end_time": "2022-12-11T11:58:22.487362",
     "exception": false,
     "start_time": "2022-12-11T11:58:22.466950",
     "status": "completed"
    },
    "tags": []
   },
   "outputs": [
    {
     "data": {
      "text/plain": [
       "(10000, 28, 28)"
      ]
     },
     "execution_count": 6,
     "metadata": {},
     "output_type": "execute_result"
    }
   ],
   "source": [
    "test_images.shape"
   ]
  },
  {
   "cell_type": "code",
   "execution_count": 7,
   "id": "a2131e6b",
   "metadata": {
    "execution": {
     "iopub.execute_input": "2022-12-11T11:58:22.506272Z",
     "iopub.status.busy": "2022-12-11T11:58:22.505818Z",
     "iopub.status.idle": "2022-12-11T11:58:22.514274Z",
     "shell.execute_reply": "2022-12-11T11:58:22.513213Z"
    },
    "papermill": {
     "duration": 0.020672,
     "end_time": "2022-12-11T11:58:22.516549",
     "exception": false,
     "start_time": "2022-12-11T11:58:22.495877",
     "status": "completed"
    },
    "tags": []
   },
   "outputs": [
    {
     "data": {
      "text/plain": [
       "10000"
      ]
     },
     "execution_count": 7,
     "metadata": {},
     "output_type": "execute_result"
    }
   ],
   "source": [
    "len(test_labels)"
   ]
  },
  {
   "cell_type": "markdown",
   "id": "9397f464",
   "metadata": {
    "papermill": {
     "duration": 0.008364,
     "end_time": "2022-12-11T11:58:22.533513",
     "exception": false,
     "start_time": "2022-12-11T11:58:22.525149",
     "status": "completed"
    },
    "tags": []
   },
   "source": [
    "# NEURAL NETWORK"
   ]
  },
  {
   "cell_type": "code",
   "execution_count": 8,
   "id": "0b3c6c45",
   "metadata": {
    "execution": {
     "iopub.execute_input": "2022-12-11T11:58:22.552478Z",
     "iopub.status.busy": "2022-12-11T11:58:22.552024Z",
     "iopub.status.idle": "2022-12-11T11:58:22.611246Z",
     "shell.execute_reply": "2022-12-11T11:58:22.610339Z"
    },
    "papermill": {
     "duration": 0.071698,
     "end_time": "2022-12-11T11:58:22.613725",
     "exception": false,
     "start_time": "2022-12-11T11:58:22.542027",
     "status": "completed"
    },
    "tags": []
   },
   "outputs": [
    {
     "name": "stderr",
     "output_type": "stream",
     "text": [
      "2022-12-11 11:58:22.588541: I tensorflow/core/common_runtime/process_util.cc:146] Creating new thread pool with default inter op setting: 2. Tune using inter_op_parallelism_threads for best performance.\n"
     ]
    }
   ],
   "source": [
    "network=models.Sequential()"
   ]
  },
  {
   "cell_type": "code",
   "execution_count": 9,
   "id": "4fe77f18",
   "metadata": {
    "execution": {
     "iopub.execute_input": "2022-12-11T11:58:22.633748Z",
     "iopub.status.busy": "2022-12-11T11:58:22.633065Z",
     "iopub.status.idle": "2022-12-11T11:58:22.688598Z",
     "shell.execute_reply": "2022-12-11T11:58:22.687239Z"
    },
    "papermill": {
     "duration": 0.068449,
     "end_time": "2022-12-11T11:58:22.691160",
     "exception": false,
     "start_time": "2022-12-11T11:58:22.622711",
     "status": "completed"
    },
    "tags": []
   },
   "outputs": [],
   "source": [
    "network.add(layers.Dense(512,activation='relu', input_shape=(28 * 28,)))"
   ]
  },
  {
   "cell_type": "code",
   "execution_count": 10,
   "id": "34ad73c9",
   "metadata": {
    "execution": {
     "iopub.execute_input": "2022-12-11T11:58:22.711711Z",
     "iopub.status.busy": "2022-12-11T11:58:22.711016Z",
     "iopub.status.idle": "2022-12-11T11:58:22.726198Z",
     "shell.execute_reply": "2022-12-11T11:58:22.724874Z"
    },
    "papermill": {
     "duration": 0.028714,
     "end_time": "2022-12-11T11:58:22.728888",
     "exception": false,
     "start_time": "2022-12-11T11:58:22.700174",
     "status": "completed"
    },
    "tags": []
   },
   "outputs": [],
   "source": [
    "network.add(layers.Dense(10,activation='softmax'))"
   ]
  },
  {
   "cell_type": "code",
   "execution_count": 11,
   "id": "ea9520e0",
   "metadata": {
    "execution": {
     "iopub.execute_input": "2022-12-11T11:58:22.749063Z",
     "iopub.status.busy": "2022-12-11T11:58:22.748318Z",
     "iopub.status.idle": "2022-12-11T11:58:22.762073Z",
     "shell.execute_reply": "2022-12-11T11:58:22.761131Z"
    },
    "papermill": {
     "duration": 0.026793,
     "end_time": "2022-12-11T11:58:22.764565",
     "exception": false,
     "start_time": "2022-12-11T11:58:22.737772",
     "status": "completed"
    },
    "tags": []
   },
   "outputs": [],
   "source": [
    "network.compile(optimizer='rmsprop',\n",
    "               loss = 'categorical_crossentropy',\n",
    "               metrics=['accuracy'])"
   ]
  },
  {
   "cell_type": "markdown",
   "id": "bacd7b5d",
   "metadata": {
    "papermill": {
     "duration": 0.008591,
     "end_time": "2022-12-11T11:58:22.782596",
     "exception": false,
     "start_time": "2022-12-11T11:58:22.774005",
     "status": "completed"
    },
    "tags": []
   },
   "source": [
    "**Preparing the image data**"
   ]
  },
  {
   "cell_type": "code",
   "execution_count": 12,
   "id": "f1a35c92",
   "metadata": {
    "execution": {
     "iopub.execute_input": "2022-12-11T11:58:22.802307Z",
     "iopub.status.busy": "2022-12-11T11:58:22.801854Z",
     "iopub.status.idle": "2022-12-11T11:58:22.808890Z",
     "shell.execute_reply": "2022-12-11T11:58:22.808074Z"
    },
    "papermill": {
     "duration": 0.019442,
     "end_time": "2022-12-11T11:58:22.810918",
     "exception": false,
     "start_time": "2022-12-11T11:58:22.791476",
     "status": "completed"
    },
    "tags": []
   },
   "outputs": [
    {
     "data": {
      "text/plain": [
       "(60000, 28, 28)"
      ]
     },
     "execution_count": 12,
     "metadata": {},
     "output_type": "execute_result"
    }
   ],
   "source": [
    "train_images.shape"
   ]
  },
  {
   "cell_type": "code",
   "execution_count": 13,
   "id": "d7b947b9",
   "metadata": {
    "execution": {
     "iopub.execute_input": "2022-12-11T11:58:22.830541Z",
     "iopub.status.busy": "2022-12-11T11:58:22.830059Z",
     "iopub.status.idle": "2022-12-11T11:58:22.837179Z",
     "shell.execute_reply": "2022-12-11T11:58:22.836412Z"
    },
    "papermill": {
     "duration": 0.019346,
     "end_time": "2022-12-11T11:58:22.839187",
     "exception": false,
     "start_time": "2022-12-11T11:58:22.819841",
     "status": "completed"
    },
    "tags": []
   },
   "outputs": [
    {
     "data": {
      "text/plain": [
       "(60000, 784)"
      ]
     },
     "execution_count": 13,
     "metadata": {},
     "output_type": "execute_result"
    }
   ],
   "source": [
    "train_images=train_images.reshape((60000,28*28))\n",
    "train_images.shape"
   ]
  },
  {
   "cell_type": "markdown",
   "id": "699b1055",
   "metadata": {
    "papermill": {
     "duration": 0.008911,
     "end_time": "2022-12-11T11:58:22.857204",
     "exception": false,
     "start_time": "2022-12-11T11:58:22.848293",
     "status": "completed"
    },
    "tags": []
   },
   "source": [
    "**Scaling the data**"
   ]
  },
  {
   "cell_type": "code",
   "execution_count": 14,
   "id": "5cfb7686",
   "metadata": {
    "execution": {
     "iopub.execute_input": "2022-12-11T11:58:22.877584Z",
     "iopub.status.busy": "2022-12-11T11:58:22.876837Z",
     "iopub.status.idle": "2022-12-11T11:58:23.018735Z",
     "shell.execute_reply": "2022-12-11T11:58:23.017818Z"
    },
    "papermill": {
     "duration": 0.15487,
     "end_time": "2022-12-11T11:58:23.021126",
     "exception": false,
     "start_time": "2022-12-11T11:58:22.866256",
     "status": "completed"
    },
    "tags": []
   },
   "outputs": [
    {
     "data": {
      "text/plain": [
       "array([[0., 0., 0., ..., 0., 0., 0.],\n",
       "       [0., 0., 0., ..., 0., 0., 0.],\n",
       "       [0., 0., 0., ..., 0., 0., 0.],\n",
       "       ...,\n",
       "       [0., 0., 0., ..., 0., 0., 0.],\n",
       "       [0., 0., 0., ..., 0., 0., 0.],\n",
       "       [0., 0., 0., ..., 0., 0., 0.]], dtype=float32)"
      ]
     },
     "execution_count": 14,
     "metadata": {},
     "output_type": "execute_result"
    }
   ],
   "source": [
    "train_images=train_images.astype('float32')/255\n",
    "train_images"
   ]
  },
  {
   "cell_type": "markdown",
   "id": "62032933",
   "metadata": {
    "papermill": {
     "duration": 0.008932,
     "end_time": "2022-12-11T11:58:23.039287",
     "exception": false,
     "start_time": "2022-12-11T11:58:23.030355",
     "status": "completed"
    },
    "tags": []
   },
   "source": [
    "**Re-shaping & Scaling**"
   ]
  },
  {
   "cell_type": "code",
   "execution_count": 15,
   "id": "e350e42c",
   "metadata": {
    "execution": {
     "iopub.execute_input": "2022-12-11T11:58:23.059916Z",
     "iopub.status.busy": "2022-12-11T11:58:23.059167Z",
     "iopub.status.idle": "2022-12-11T11:58:23.064123Z",
     "shell.execute_reply": "2022-12-11T11:58:23.062971Z"
    },
    "papermill": {
     "duration": 0.017842,
     "end_time": "2022-12-11T11:58:23.066465",
     "exception": false,
     "start_time": "2022-12-11T11:58:23.048623",
     "status": "completed"
    },
    "tags": []
   },
   "outputs": [],
   "source": [
    "test_images=test_images.reshape((10000,28*28))"
   ]
  },
  {
   "cell_type": "code",
   "execution_count": 16,
   "id": "50e6ede7",
   "metadata": {
    "execution": {
     "iopub.execute_input": "2022-12-11T11:58:23.086992Z",
     "iopub.status.busy": "2022-12-11T11:58:23.086541Z",
     "iopub.status.idle": "2022-12-11T11:58:23.112386Z",
     "shell.execute_reply": "2022-12-11T11:58:23.111403Z"
    },
    "papermill": {
     "duration": 0.039015,
     "end_time": "2022-12-11T11:58:23.114678",
     "exception": false,
     "start_time": "2022-12-11T11:58:23.075663",
     "status": "completed"
    },
    "tags": []
   },
   "outputs": [
    {
     "data": {
      "text/plain": [
       "array([[0., 0., 0., ..., 0., 0., 0.],\n",
       "       [0., 0., 0., ..., 0., 0., 0.],\n",
       "       [0., 0., 0., ..., 0., 0., 0.],\n",
       "       ...,\n",
       "       [0., 0., 0., ..., 0., 0., 0.],\n",
       "       [0., 0., 0., ..., 0., 0., 0.],\n",
       "       [0., 0., 0., ..., 0., 0., 0.]], dtype=float32)"
      ]
     },
     "execution_count": 16,
     "metadata": {},
     "output_type": "execute_result"
    }
   ],
   "source": [
    "test_images=test_images.astype('float32')/255\n",
    "test_images"
   ]
  },
  {
   "cell_type": "markdown",
   "id": "3d60cf80",
   "metadata": {
    "papermill": {
     "duration": 0.00924,
     "end_time": "2022-12-11T11:58:23.133202",
     "exception": false,
     "start_time": "2022-12-11T11:58:23.123962",
     "status": "completed"
    },
    "tags": []
   },
   "source": [
    "***Train_labels as categories***"
   ]
  },
  {
   "cell_type": "code",
   "execution_count": 17,
   "id": "cfb73736",
   "metadata": {
    "execution": {
     "iopub.execute_input": "2022-12-11T11:58:23.154225Z",
     "iopub.status.busy": "2022-12-11T11:58:23.153433Z",
     "iopub.status.idle": "2022-12-11T11:58:23.725916Z",
     "shell.execute_reply": "2022-12-11T11:58:23.724805Z"
    },
    "papermill": {
     "duration": 0.586054,
     "end_time": "2022-12-11T11:58:23.728684",
     "exception": false,
     "start_time": "2022-12-11T11:58:23.142630",
     "status": "completed"
    },
    "tags": []
   },
   "outputs": [],
   "source": [
    "from tensorflow.keras.utils import to_categorical"
   ]
  },
  {
   "cell_type": "code",
   "execution_count": 18,
   "id": "df9f0bb5",
   "metadata": {
    "execution": {
     "iopub.execute_input": "2022-12-11T11:58:23.749526Z",
     "iopub.status.busy": "2022-12-11T11:58:23.749078Z",
     "iopub.status.idle": "2022-12-11T11:58:23.760710Z",
     "shell.execute_reply": "2022-12-11T11:58:23.759609Z"
    },
    "papermill": {
     "duration": 0.024845,
     "end_time": "2022-12-11T11:58:23.763056",
     "exception": false,
     "start_time": "2022-12-11T11:58:23.738211",
     "status": "completed"
    },
    "tags": []
   },
   "outputs": [
    {
     "data": {
      "text/plain": [
       "array([[0., 0., 0., ..., 0., 0., 0.],\n",
       "       [1., 0., 0., ..., 0., 0., 0.],\n",
       "       [0., 0., 0., ..., 0., 0., 0.],\n",
       "       ...,\n",
       "       [0., 0., 0., ..., 0., 0., 0.],\n",
       "       [0., 0., 0., ..., 0., 0., 0.],\n",
       "       [0., 0., 0., ..., 0., 1., 0.]], dtype=float32)"
      ]
     },
     "execution_count": 18,
     "metadata": {},
     "output_type": "execute_result"
    }
   ],
   "source": [
    "train_labels =to_categorical(train_labels)\n",
    "train_labels"
   ]
  },
  {
   "cell_type": "markdown",
   "id": "bf57a948",
   "metadata": {
    "papermill": {
     "duration": 0.009077,
     "end_time": "2022-12-11T11:58:23.781620",
     "exception": false,
     "start_time": "2022-12-11T11:58:23.772543",
     "status": "completed"
    },
    "tags": []
   },
   "source": [
    "**test_labels as categories**"
   ]
  },
  {
   "cell_type": "code",
   "execution_count": 19,
   "id": "c25d92df",
   "metadata": {
    "execution": {
     "iopub.execute_input": "2022-12-11T11:58:23.802675Z",
     "iopub.status.busy": "2022-12-11T11:58:23.801792Z",
     "iopub.status.idle": "2022-12-11T11:58:23.810813Z",
     "shell.execute_reply": "2022-12-11T11:58:23.809715Z"
    },
    "papermill": {
     "duration": 0.022094,
     "end_time": "2022-12-11T11:58:23.813180",
     "exception": false,
     "start_time": "2022-12-11T11:58:23.791086",
     "status": "completed"
    },
    "tags": []
   },
   "outputs": [
    {
     "data": {
      "text/plain": [
       "array([[0., 0., 0., ..., 1., 0., 0.],\n",
       "       [0., 0., 1., ..., 0., 0., 0.],\n",
       "       [0., 1., 0., ..., 0., 0., 0.],\n",
       "       ...,\n",
       "       [0., 0., 0., ..., 0., 0., 0.],\n",
       "       [0., 0., 0., ..., 0., 0., 0.],\n",
       "       [0., 0., 0., ..., 0., 0., 0.]], dtype=float32)"
      ]
     },
     "execution_count": 19,
     "metadata": {},
     "output_type": "execute_result"
    }
   ],
   "source": [
    "test_labels =to_categorical(test_labels)\n",
    "test_labels"
   ]
  },
  {
   "cell_type": "markdown",
   "id": "49ad7765",
   "metadata": {
    "papermill": {
     "duration": 0.00933,
     "end_time": "2022-12-11T11:58:23.832180",
     "exception": false,
     "start_time": "2022-12-11T11:58:23.822850",
     "status": "completed"
    },
    "tags": []
   },
   "source": [
    "***fitting the model to its train data***"
   ]
  },
  {
   "cell_type": "code",
   "execution_count": 20,
   "id": "cc5b4b81",
   "metadata": {
    "execution": {
     "iopub.execute_input": "2022-12-11T11:58:23.853641Z",
     "iopub.status.busy": "2022-12-11T11:58:23.853155Z",
     "iopub.status.idle": "2022-12-11T11:58:42.036805Z",
     "shell.execute_reply": "2022-12-11T11:58:42.035566Z"
    },
    "papermill": {
     "duration": 18.197742,
     "end_time": "2022-12-11T11:58:42.039614",
     "exception": false,
     "start_time": "2022-12-11T11:58:23.841872",
     "status": "completed"
    },
    "tags": []
   },
   "outputs": [
    {
     "name": "stderr",
     "output_type": "stream",
     "text": [
      "2022-12-11 11:58:24.252533: I tensorflow/compiler/mlir/mlir_graph_optimization_pass.cc:185] None of the MLIR Optimization Passes are enabled (registered 2)\n"
     ]
    },
    {
     "name": "stdout",
     "output_type": "stream",
     "text": [
      "Epoch 1/5\n",
      "469/469 [==============================] - 4s 7ms/step - loss: 0.2560 - accuracy: 0.9251\n",
      "Epoch 2/5\n",
      "469/469 [==============================] - 3s 7ms/step - loss: 0.1033 - accuracy: 0.9697\n",
      "Epoch 3/5\n",
      "469/469 [==============================] - 3s 7ms/step - loss: 0.0685 - accuracy: 0.9795\n",
      "Epoch 4/5\n",
      "469/469 [==============================] - 4s 9ms/step - loss: 0.0502 - accuracy: 0.9844\n",
      "Epoch 5/5\n",
      "469/469 [==============================] - 3s 7ms/step - loss: 0.0370 - accuracy: 0.9883\n"
     ]
    },
    {
     "data": {
      "text/plain": [
       "<keras.callbacks.History at 0x7fe2bca0cf90>"
      ]
     },
     "execution_count": 20,
     "metadata": {},
     "output_type": "execute_result"
    }
   ],
   "source": [
    "network.fit(train_images,train_labels, epochs=5,batch_size=128)"
   ]
  },
  {
   "cell_type": "markdown",
   "id": "18c3f7aa",
   "metadata": {
    "papermill": {
     "duration": 0.029434,
     "end_time": "2022-12-11T11:58:42.098975",
     "exception": false,
     "start_time": "2022-12-11T11:58:42.069541",
     "status": "completed"
    },
    "tags": []
   },
   "source": [
    "**Test data performance**"
   ]
  },
  {
   "cell_type": "code",
   "execution_count": 21,
   "id": "63c01993",
   "metadata": {
    "execution": {
     "iopub.execute_input": "2022-12-11T11:58:42.159980Z",
     "iopub.status.busy": "2022-12-11T11:58:42.159204Z",
     "iopub.status.idle": "2022-12-11T11:58:43.032969Z",
     "shell.execute_reply": "2022-12-11T11:58:43.031596Z"
    },
    "papermill": {
     "duration": 0.907884,
     "end_time": "2022-12-11T11:58:43.035971",
     "exception": false,
     "start_time": "2022-12-11T11:58:42.128087",
     "status": "completed"
    },
    "tags": []
   },
   "outputs": [
    {
     "name": "stdout",
     "output_type": "stream",
     "text": [
      "313/313 [==============================] - 1s 2ms/step - loss: 0.0696 - accuracy: 0.9785\n"
     ]
    }
   ],
   "source": [
    "test_loss, test_acc=network.evaluate(test_images,test_labels)"
   ]
  },
  {
   "cell_type": "code",
   "execution_count": 22,
   "id": "bfac5842",
   "metadata": {
    "execution": {
     "iopub.execute_input": "2022-12-11T11:58:43.098676Z",
     "iopub.status.busy": "2022-12-11T11:58:43.097965Z",
     "iopub.status.idle": "2022-12-11T11:58:43.105191Z",
     "shell.execute_reply": "2022-12-11T11:58:43.103580Z"
    },
    "papermill": {
     "duration": 0.041571,
     "end_time": "2022-12-11T11:58:43.107664",
     "exception": false,
     "start_time": "2022-12-11T11:58:43.066093",
     "status": "completed"
    },
    "tags": []
   },
   "outputs": [
    {
     "name": "stdout",
     "output_type": "stream",
     "text": [
      "test_acc:A 0.9785000085830688\n"
     ]
    }
   ],
   "source": [
    "print('test_acc:A',test_acc)"
   ]
  }
 ],
 "metadata": {
  "kernelspec": {
   "display_name": "Python 3",
   "language": "python",
   "name": "python3"
  },
  "language_info": {
   "codemirror_mode": {
    "name": "ipython",
    "version": 3
   },
   "file_extension": ".py",
   "mimetype": "text/x-python",
   "name": "python",
   "nbconvert_exporter": "python",
   "pygments_lexer": "ipython3",
   "version": "3.7.12"
  },
  "papermill": {
   "default_parameters": {},
   "duration": 42.242664,
   "end_time": "2022-12-11T11:58:46.581736",
   "environment_variables": {},
   "exception": null,
   "input_path": "__notebook__.ipynb",
   "output_path": "__notebook__.ipynb",
   "parameters": {},
   "start_time": "2022-12-11T11:58:04.339072",
   "version": "2.3.4"
  }
 },
 "nbformat": 4,
 "nbformat_minor": 5
}
