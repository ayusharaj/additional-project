{
 "cells": [
  {
   "cell_type": "markdown",
   "id": "9f929edc",
   "metadata": {
    "papermill": {
     "duration": 0.00831,
     "end_time": "2022-12-13T10:56:37.465484",
     "exception": false,
     "start_time": "2022-12-13T10:56:37.457174",
     "status": "completed"
    },
    "tags": []
   },
   "source": [
    "# Music Genre Classification\n",
    "In this notebook I tried to learn the basic concepts of neural networks and use it to classify the music files in dataset. Majorly this notebook can be divided into 3 parts:\n",
    "\n",
    "   1) Using ANN \n",
    "\n",
    "   2) Tackling overfitting with ANN\n",
    "\n",
    "   3) Using CNN\n",
    "\n",
    "\n",
    "Also to read the dataset I have used librosa library which only read files <1Mb and one file is greater than the size giving error due to which I have ignored it. The dataset contains the following genres, the keys being the prediction targets\n",
    "    \n",
    "    0: \"disco\",\n",
    "    1: \"metal\",\n",
    "    2: \"reggae\",\n",
    "    3: \"blues\",\n",
    "    4: \"rock\",\n",
    "    5: \"classical\",\n",
    "    6: \"jazz\",\n",
    "    7: \"hiphop\",\n",
    "    8: \"country\",\n",
    "    9: \"pop\"\n"
   ]
  },
  {
   "cell_type": "code",
   "execution_count": 1,
   "id": "537e568f",
   "metadata": {
    "execution": {
     "iopub.execute_input": "2022-12-13T10:56:37.482363Z",
     "iopub.status.busy": "2022-12-13T10:56:37.481752Z",
     "iopub.status.idle": "2022-12-13T10:56:39.549741Z",
     "shell.execute_reply": "2022-12-13T10:56:39.548425Z"
    },
    "papermill": {
     "duration": 2.079237,
     "end_time": "2022-12-13T10:56:39.552251",
     "exception": false,
     "start_time": "2022-12-13T10:56:37.473014",
     "status": "completed"
    },
    "tags": []
   },
   "outputs": [],
   "source": [
    "import os\n",
    "import librosa\n",
    "import math\n",
    "import json \n",
    "import matplotlib.pyplot as plt\n",
    "import numpy as np"
   ]
  },
  {
   "cell_type": "code",
   "execution_count": 2,
   "id": "e00a9f44",
   "metadata": {
    "execution": {
     "iopub.execute_input": "2022-12-13T10:56:39.569282Z",
     "iopub.status.busy": "2022-12-13T10:56:39.568909Z",
     "iopub.status.idle": "2022-12-13T10:56:39.573885Z",
     "shell.execute_reply": "2022-12-13T10:56:39.572898Z"
    },
    "papermill": {
     "duration": 0.016167,
     "end_time": "2022-12-13T10:56:39.575879",
     "exception": false,
     "start_time": "2022-12-13T10:56:39.559712",
     "status": "completed"
    },
    "tags": []
   },
   "outputs": [],
   "source": [
    "dataset_path = r\"../input/gtzan-dataset-music-genre-classification/Data/genres_original\"\n",
    "json_path = r\"data.json\"\n",
    "SAMPLE_RATE = 22050\n",
    "DURATION = 30\n",
    "SAMPLES_PER_TRACK = SAMPLE_RATE * DURATION"
   ]
  },
  {
   "cell_type": "code",
   "execution_count": 3,
   "id": "56a46147",
   "metadata": {
    "execution": {
     "iopub.execute_input": "2022-12-13T10:56:39.593665Z",
     "iopub.status.busy": "2022-12-13T10:56:39.592570Z",
     "iopub.status.idle": "2022-12-13T10:56:39.604162Z",
     "shell.execute_reply": "2022-12-13T10:56:39.603181Z"
    },
    "papermill": {
     "duration": 0.023088,
     "end_time": "2022-12-13T10:56:39.606670",
     "exception": false,
     "start_time": "2022-12-13T10:56:39.583582",
     "status": "completed"
    },
    "tags": []
   },
   "outputs": [],
   "source": [
    "def save_mfcc(dataset_path, json_path, n_mfcc=13, n_fft=2048,\n",
    "             hop_length=512, num_segments=5):\n",
    "    # Data storage dictionary\n",
    "    data = {\n",
    "        \"mapping\": [],\n",
    "        \"mfcc\": [],\n",
    "        \"labels\": [],\n",
    "    }\n",
    "    samples_ps = int(SAMPLES_PER_TRACK/num_segments) # ps = per segment\n",
    "    expected_vects_ps = math.ceil(samples_ps/hop_length)\n",
    "    \n",
    "    # loop through all the genres\n",
    "    for i, (dirpath, dirnames, filenames) in enumerate(os.walk(dataset_path)):\n",
    "        # ensuring not at root\n",
    "        if dirpath is not dataset_path:\n",
    "            # save the semantic label\n",
    "            dirpath_comp = dirpath.split(\"/\")\n",
    "            semantic_label = dirpath_comp[-1]\n",
    "            data[\"mapping\"].append(semantic_label)\n",
    "            print(f\"Processing: {semantic_label}\")\n",
    "            \n",
    "            # process files for specific genre\n",
    "            for f in filenames:\n",
    "                if(f==str(\"jazz.00054.wav\")):\n",
    "                    # As librosa only read files <1Mb\n",
    "                    continue\n",
    "                else:\n",
    "                    # load audio file\n",
    "                    file_path = os.path.join(dirpath, f)\n",
    "                    signal,sr = librosa.load(file_path,sr=SAMPLE_RATE)\n",
    "                    for s in range(num_segments):\n",
    "                        start_sample = samples_ps * s\n",
    "                        finish_sample = start_sample + samples_ps\n",
    "\n",
    "                        mfcc = librosa.feature.mfcc(signal[start_sample:finish_sample],\n",
    "                                                    sr = sr,\n",
    "                                                    n_fft = n_fft,\n",
    "                                                    n_mfcc = n_mfcc,\n",
    "                                                    hop_length = hop_length)\n",
    "\n",
    "                        mfcc = mfcc.T\n",
    "\n",
    "                        # store mfcc if it has expected length \n",
    "                        if len(mfcc)==expected_vects_ps:\n",
    "                            data[\"mfcc\"].append(mfcc.tolist())\n",
    "                            data[\"labels\"].append(i-1)\n",
    "                            print(f\"{file_path}, segment: {s+1}\")\n",
    "\n",
    "    with open(json_path,\"w\") as f:\n",
    "        json.dump(data,f,indent=4)"
   ]
  },
  {
   "cell_type": "code",
   "execution_count": 4,
   "id": "fda2d474",
   "metadata": {
    "execution": {
     "iopub.execute_input": "2022-12-13T10:56:39.623152Z",
     "iopub.status.busy": "2022-12-13T10:56:39.622794Z",
     "iopub.status.idle": "2022-12-13T10:56:39.627559Z",
     "shell.execute_reply": "2022-12-13T10:56:39.626515Z"
    },
    "papermill": {
     "duration": 0.015301,
     "end_time": "2022-12-13T10:56:39.629349",
     "exception": false,
     "start_time": "2022-12-13T10:56:39.614048",
     "status": "completed"
    },
    "tags": []
   },
   "outputs": [],
   "source": [
    "from IPython.display import clear_output"
   ]
  },
  {
   "cell_type": "code",
   "execution_count": 5,
   "id": "8df4cfcd",
   "metadata": {
    "execution": {
     "iopub.execute_input": "2022-12-13T10:56:39.646469Z",
     "iopub.status.busy": "2022-12-13T10:56:39.646152Z",
     "iopub.status.idle": "2022-12-13T10:56:39.650246Z",
     "shell.execute_reply": "2022-12-13T10:56:39.649343Z"
    },
    "papermill": {
     "duration": 0.015362,
     "end_time": "2022-12-13T10:56:39.652010",
     "exception": false,
     "start_time": "2022-12-13T10:56:39.636648",
     "status": "completed"
    },
    "tags": []
   },
   "outputs": [],
   "source": [
    "filepath = r\"../input/gtzan-dataset-music-genre-classification/Data/genres_original/blues/blues.0000\""
   ]
  },
  {
   "cell_type": "code",
   "execution_count": 6,
   "id": "3250c974",
   "metadata": {
    "execution": {
     "iopub.execute_input": "2022-12-13T10:56:39.668375Z",
     "iopub.status.busy": "2022-12-13T10:56:39.668059Z",
     "iopub.status.idle": "2022-12-13T10:56:40.839344Z",
     "shell.execute_reply": "2022-12-13T10:56:40.838293Z"
    },
    "papermill": {
     "duration": 1.182361,
     "end_time": "2022-12-13T10:56:40.841715",
     "exception": false,
     "start_time": "2022-12-13T10:56:39.659354",
     "status": "completed"
    },
    "tags": []
   },
   "outputs": [
    {
     "data": {
      "image/png": "[encoded data removed]",
      "text/plain": [
       "<Figure size 432x288 with 1 Axes>"
      ]
     },
     "metadata": {
      "needs_background": "light"
     },
     "output_type": "display_data"
    },
    {
     "data": {
      "image/png": "[encoded data removed]",
      "text/plain": [
       "<Figure size 432x288 with 1 Axes>"
      ]
     },
     "metadata": {
      "needs_background": "light"
     },
     "output_type": "display_data"
    }
   ],
   "source": [
    "for i in range(2):\n",
    "    audio, sfreq = librosa.load(filepath+str(i)+\".wav\")\n",
    "    time = np.arange(0, len(audio))/sfreq\n",
    "    plt.plot(time,audio)\n",
    "    plt.xlabel(\"Time\")\n",
    "    plt.ylabel(\"Sound Amplitude\")\n",
    "    plt.show()"
   ]
  },
  {
   "cell_type": "markdown",
   "id": "fab8db35",
   "metadata": {
    "papermill": {
     "duration": 0.01007,
     "end_time": "2022-12-13T10:56:40.862721",
     "exception": false,
     "start_time": "2022-12-13T10:56:40.852651",
     "status": "completed"
    },
    "tags": []
   },
   "source": [
    "# Classifier\n",
    "This part uses the concepts of ANN with keras and sequential layers. I have also done splitting in the ratio 70:30\n",
    "\n",
    "The model is Sequential and architecture only has Flatten and the Dense layers available in keras for the basic ANN representation. As it is naive model we can expect it to be overfit. Info on the layers can be found here\n"
   ]
  },
  {
   "cell_type": "code",
   "execution_count": 7,
   "id": "9136db3f",
   "metadata": {
    "execution": {
     "iopub.execute_input": "2022-12-13T10:56:40.883639Z",
     "iopub.status.busy": "2022-12-13T10:56:40.883267Z",
     "iopub.status.idle": "2022-12-13T10:56:40.887374Z",
     "shell.execute_reply": "2022-12-13T10:56:40.886440Z"
    },
    "papermill": {
     "duration": 0.015741,
     "end_time": "2022-12-13T10:56:40.889278",
     "exception": false,
     "start_time": "2022-12-13T10:56:40.873537",
     "status": "completed"
    },
    "tags": []
   },
   "outputs": [],
   "source": [
    "import json\n",
    "import numpy as np"
   ]
  },
  {
   "cell_type": "code",
   "execution_count": 8,
   "id": "02f8007c",
   "metadata": {
    "execution": {
     "iopub.execute_input": "2022-12-13T10:56:40.907586Z",
     "iopub.status.busy": "2022-12-13T10:56:40.907251Z",
     "iopub.status.idle": "2022-12-13T10:56:40.912843Z",
     "shell.execute_reply": "2022-12-13T10:56:40.911844Z"
    },
    "papermill": {
     "duration": 0.017053,
     "end_time": "2022-12-13T10:56:40.914838",
     "exception": false,
     "start_time": "2022-12-13T10:56:40.897785",
     "status": "completed"
    },
    "tags": []
   },
   "outputs": [],
   "source": [
    "# load data\n",
    "def load_data(dataset_path):\n",
    "    with open(dataset_path,\"r\") as f:\n",
    "        data = json.load(f)\n",
    "    \n",
    "    # Convert list to numpy arrays\n",
    "    inputs = np.array(data[\"mfcc\"])\n",
    "    targets = np.array(data[\"labels\"])    \n",
    "    \n",
    "    return inputs,targets"
   ]
  },
  {
   "cell_type": "code",
   "execution_count": 9,
   "id": "85c8e3d5",
   "metadata": {
    "execution": {
     "iopub.execute_input": "2022-12-13T10:56:40.933015Z",
     "iopub.status.busy": "2022-12-13T10:56:40.932665Z",
     "iopub.status.idle": "2022-12-13T10:56:41.045289Z",
     "shell.execute_reply": "2022-12-13T10:56:41.044012Z"
    },
    "papermill": {
     "duration": 0.123611,
     "end_time": "2022-12-13T10:56:41.046785",
     "exception": true,
     "start_time": "2022-12-13T10:56:40.923174",
     "status": "failed"
    },
    "tags": []
   },
   "outputs": [
    {
     "ename": "FileNotFoundError",
     "evalue": "[Errno 2] No such file or directory: './data.json'",
     "output_type": "error",
     "traceback": [
      "\u001b[0;31m---------------------------------------------------------------------------\u001b[0m",
      "\u001b[0;31mFileNotFoundError\u001b[0m                         Traceback (most recent call last)",
      "\u001b[0;32m/tmp/ipykernel_19/1251735987.py\u001b[0m in \u001b[0;36m<module>\u001b[0;34m\u001b[0m\n\u001b[0;32m----> 1\u001b[0;31m \u001b[0minputs\u001b[0m\u001b[0;34m,\u001b[0m\u001b[0mtargets\u001b[0m \u001b[0;34m=\u001b[0m \u001b[0mload_data\u001b[0m\u001b[0;34m(\u001b[0m\u001b[0;34mr\"./data.json\"\u001b[0m\u001b[0;34m)\u001b[0m\u001b[0;34m\u001b[0m\u001b[0;34m\u001b[0m\u001b[0m\n\u001b[0m",
      "\u001b[0;32m/tmp/ipykernel_19/1500866687.py\u001b[0m in \u001b[0;36mload_data\u001b[0;34m(dataset_path)\u001b[0m\n\u001b[1;32m      1\u001b[0m \u001b[0;31m# load data\u001b[0m\u001b[0;34m\u001b[0m\u001b[0;34m\u001b[0m\u001b[0;34m\u001b[0m\u001b[0m\n\u001b[1;32m      2\u001b[0m \u001b[0;32mdef\u001b[0m \u001b[0mload_data\u001b[0m\u001b[0;34m(\u001b[0m\u001b[0mdataset_path\u001b[0m\u001b[0;34m)\u001b[0m\u001b[0;34m:\u001b[0m\u001b[0;34m\u001b[0m\u001b[0;34m\u001b[0m\u001b[0m\n\u001b[0;32m----> 3\u001b[0;31m     \u001b[0;32mwith\u001b[0m \u001b[0mopen\u001b[0m\u001b[0;34m(\u001b[0m\u001b[0mdataset_path\u001b[0m\u001b[0;34m,\u001b[0m\u001b[0;34m\"r\"\u001b[0m\u001b[0;34m)\u001b[0m \u001b[0;32mas\u001b[0m \u001b[0mf\u001b[0m\u001b[0;34m:\u001b[0m\u001b[0;34m\u001b[0m\u001b[0;34m\u001b[0m\u001b[0m\n\u001b[0m\u001b[1;32m      4\u001b[0m         \u001b[0mdata\u001b[0m \u001b[0;34m=\u001b[0m \u001b[0mjson\u001b[0m\u001b[0;34m.\u001b[0m\u001b[0mload\u001b[0m\u001b[0;34m(\u001b[0m\u001b[0mf\u001b[0m\u001b[0;34m)\u001b[0m\u001b[0;34m\u001b[0m\u001b[0;34m\u001b[0m\u001b[0m\n\u001b[1;32m      5\u001b[0m \u001b[0;34m\u001b[0m\u001b[0m\n",
      "\u001b[0;31mFileNotFoundError\u001b[0m: [Errno 2] No such file or directory: './data.json'"
     ]
    }
   ],
   "source": [
    "inputs,targets = load_data(r\"./data.json\")"
   ]
  },
  {
   "cell_type": "code",
   "execution_count": null,
   "id": "096a4347",
   "metadata": {
    "execution": {
     "iopub.execute_input": "2022-12-12T17:45:33.683885Z",
     "iopub.status.busy": "2022-12-12T17:45:33.683561Z",
     "iopub.status.idle": "2022-12-12T17:45:33.742743Z",
     "shell.execute_reply": "2022-12-12T17:45:33.741256Z",
     "shell.execute_reply.started": "2022-12-12T17:45:33.683855Z"
    },
    "papermill": {
     "duration": null,
     "end_time": null,
     "exception": null,
     "start_time": null,
     "status": "pending"
    },
    "tags": []
   },
   "outputs": [],
   "source": [
    "# splitting the data\n",
    "from sklearn.model_selection import train_test_split\n",
    "\n",
    "input_train, input_test, target_train, target_test = train_test_split(inputs, targets, test_size=0.3)\n",
    "print(input_train.shape, target_train.shape)"
   ]
  },
  {
   "cell_type": "code",
   "execution_count": null,
   "id": "4d739afd",
   "metadata": {
    "execution": {
     "iopub.execute_input": "2022-12-12T17:45:33.744774Z",
     "iopub.status.busy": "2022-12-12T17:45:33.744296Z",
     "iopub.status.idle": "2022-12-12T17:45:33.751460Z",
     "shell.execute_reply": "2022-12-12T17:45:33.750016Z",
     "shell.execute_reply.started": "2022-12-12T17:45:33.744734Z"
    },
    "papermill": {
     "duration": null,
     "end_time": null,
     "exception": null,
     "start_time": null,
     "status": "pending"
    },
    "tags": []
   },
   "outputs": [],
   "source": [
    "from tensorflow.keras import Sequential\n",
    "from tensorflow.keras.layers import *"
   ]
  },
  {
   "cell_type": "code",
   "execution_count": null,
   "id": "f6dfd324",
   "metadata": {
    "execution": {
     "iopub.execute_input": "2022-12-12T17:45:33.753723Z",
     "iopub.status.busy": "2022-12-12T17:45:33.753284Z",
     "iopub.status.idle": "2022-12-12T17:45:33.820319Z",
     "shell.execute_reply": "2022-12-12T17:45:33.819227Z",
     "shell.execute_reply.started": "2022-12-12T17:45:33.753687Z"
    },
    "papermill": {
     "duration": null,
     "end_time": null,
     "exception": null,
     "start_time": null,
     "status": "pending"
    },
    "tags": []
   },
   "outputs": [],
   "source": [
    "model = Sequential()\n",
    "\n",
    "model.add(Flatten(input_shape=(inputs.shape[1],inputs.shape[2])))\n",
    "model.add(Dense(512, activation='relu'))\n",
    "model.add(Dense(256, activation='relu'))\n",
    "model.add(Dense(64, activation='relu'))\n",
    "model.add(Dense(10, activation='softmax'))\n",
    "model.summary()"
   ]
  },
  {
   "cell_type": "code",
   "execution_count": null,
   "id": "1a393324",
   "metadata": {
    "execution": {
     "iopub.execute_input": "2022-12-12T17:45:33.822838Z",
     "iopub.status.busy": "2022-12-12T17:45:33.822379Z",
     "iopub.status.idle": "2022-12-12T17:45:33.829049Z",
     "shell.execute_reply": "2022-12-12T17:45:33.827927Z",
     "shell.execute_reply.started": "2022-12-12T17:45:33.822797Z"
    },
    "papermill": {
     "duration": null,
     "end_time": null,
     "exception": null,
     "start_time": null,
     "status": "pending"
    },
    "tags": []
   },
   "outputs": [],
   "source": [
    "from tensorflow.keras import optimizers\n",
    "adam = optimizers.Adam(lr=1e-4)"
   ]
  },
  {
   "cell_type": "code",
   "execution_count": null,
   "id": "3030606b",
   "metadata": {
    "execution": {
     "iopub.execute_input": "2022-12-12T17:45:33.830891Z",
     "iopub.status.busy": "2022-12-12T17:45:33.830370Z",
     "iopub.status.idle": "2022-12-12T17:45:33.847121Z",
     "shell.execute_reply": "2022-12-12T17:45:33.846157Z",
     "shell.execute_reply.started": "2022-12-12T17:45:33.830857Z"
    },
    "papermill": {
     "duration": null,
     "end_time": null,
     "exception": null,
     "start_time": null,
     "status": "pending"
    },
    "tags": []
   },
   "outputs": [],
   "source": [
    "model.compile(optimizer=adam,\n",
    "             loss=\"sparse_categorical_crossentropy\",\n",
    "             metrics=[\"accuracy\"])"
   ]
  },
  {
   "cell_type": "code",
   "execution_count": null,
   "id": "700bf993",
   "metadata": {
    "execution": {
     "iopub.execute_input": "2022-12-12T17:45:33.849151Z",
     "iopub.status.busy": "2022-12-12T17:45:33.848576Z",
     "iopub.status.idle": "2022-12-12T17:47:05.097583Z",
     "shell.execute_reply": "2022-12-12T17:47:05.096295Z",
     "shell.execute_reply.started": "2022-12-12T17:45:33.849105Z"
    },
    "papermill": {
     "duration": null,
     "end_time": null,
     "exception": null,
     "start_time": null,
     "status": "pending"
    },
    "tags": []
   },
   "outputs": [],
   "source": [
    "model.compile(optimizer=adam,\n",
    "             loss=\"sparse_categorical_crossentropy\",\n",
    "             metrics=[\"accuracy\"])\n",
    "\n",
    "hist = model.fit(input_train, target_train,\n",
    "                 validation_data = (input_test,target_test),\n",
    "                 epochs = 50,\n",
    "                 batch_size = 32)\n",
    "clear_output()"
   ]
  },
  {
   "cell_type": "code",
   "execution_count": null,
   "id": "2764ad68",
   "metadata": {
    "execution": {
     "iopub.execute_input": "2022-12-12T17:47:05.100799Z",
     "iopub.status.busy": "2022-12-12T17:47:05.099527Z",
     "iopub.status.idle": "2022-12-12T17:47:05.111037Z",
     "shell.execute_reply": "2022-12-12T17:47:05.109538Z",
     "shell.execute_reply.started": "2022-12-12T17:47:05.100752Z"
    },
    "papermill": {
     "duration": null,
     "end_time": null,
     "exception": null,
     "start_time": null,
     "status": "pending"
    },
    "tags": []
   },
   "outputs": [],
   "source": [
    "def plot_history(hist):\n",
    "    plt.figure(figsize=(20,15))\n",
    "    fig, axs = plt.subplots(2)\n",
    "    # accuracy subplot\n",
    "    axs[0].plot(hist.history[\"accuracy\"], label=\"train accuracy\")\n",
    "    axs[0].plot(hist.history[\"val_accuracy\"], label=\"test accuracy\")    \n",
    "    axs[0].set_ylabel(\"Accuracy\")\n",
    "    axs[0].legend(loc=\"lower right\")\n",
    "    axs[0].set_title(\"Accuracy eval\")\n",
    "    \n",
    "    # Error subplot\n",
    "    axs[1].plot(hist.history[\"loss\"], label=\"train error\")\n",
    "    axs[1].plot(hist.history[\"val_loss\"], label=\"test error\")    \n",
    "    axs[1].set_ylabel(\"Error\")\n",
    "    axs[1].set_xlabel(\"Epoch\")\n",
    "    axs[1].legend(loc=\"upper right\")\n",
    "    axs[1].set_title(\"Error eval\")\n",
    "    \n",
    "    plt.show()"
   ]
  },
  {
   "cell_type": "code",
   "execution_count": null,
   "id": "ffae11cb",
   "metadata": {
    "execution": {
     "iopub.execute_input": "2022-12-12T17:47:05.114772Z",
     "iopub.status.busy": "2022-12-12T17:47:05.113820Z",
     "iopub.status.idle": "2022-12-12T17:47:05.458303Z",
     "shell.execute_reply": "2022-12-12T17:47:05.456591Z",
     "shell.execute_reply.started": "2022-12-12T17:47:05.114724Z"
    },
    "papermill": {
     "duration": null,
     "end_time": null,
     "exception": null,
     "start_time": null,
     "status": "pending"
    },
    "tags": []
   },
   "outputs": [],
   "source": [
    "plot_history(hist)"
   ]
  },
  {
   "cell_type": "code",
   "execution_count": null,
   "id": "18a80f02",
   "metadata": {
    "execution": {
     "iopub.execute_input": "2022-12-12T17:47:05.461003Z",
     "iopub.status.busy": "2022-12-12T17:47:05.460408Z",
     "iopub.status.idle": "2022-12-12T17:47:05.837627Z",
     "shell.execute_reply": "2022-12-12T17:47:05.836385Z",
     "shell.execute_reply.started": "2022-12-12T17:47:05.460949Z"
    },
    "papermill": {
     "duration": null,
     "end_time": null,
     "exception": null,
     "start_time": null,
     "status": "pending"
    },
    "tags": []
   },
   "outputs": [],
   "source": [
    "test_error, test_accuracy = model.evaluate(input_test, target_test, verbose=1)\n",
    "print(f\"Test accuracy: {test_accuracy}\")"
   ]
  },
  {
   "cell_type": "markdown",
   "id": "651744bf",
   "metadata": {
    "papermill": {
     "duration": null,
     "end_time": null,
     "exception": null,
     "start_time": null,
     "status": "pending"
    },
    "tags": []
   },
   "source": [
    "# Overfitting"
   ]
  },
  {
   "cell_type": "code",
   "execution_count": null,
   "id": "22e5a714",
   "metadata": {
    "execution": {
     "iopub.execute_input": "2022-12-12T17:47:05.844550Z",
     "iopub.status.busy": "2022-12-12T17:47:05.843144Z",
     "iopub.status.idle": "2022-12-12T17:47:05.850974Z",
     "shell.execute_reply": "2022-12-12T17:47:05.849516Z",
     "shell.execute_reply.started": "2022-12-12T17:47:05.844498Z"
    },
    "papermill": {
     "duration": null,
     "end_time": null,
     "exception": null,
     "start_time": null,
     "status": "pending"
    },
    "tags": []
   },
   "outputs": [],
   "source": [
    "import tensorflow.keras as keras"
   ]
  },
  {
   "cell_type": "code",
   "execution_count": null,
   "id": "f00bfa3c",
   "metadata": {
    "execution": {
     "iopub.execute_input": "2022-12-12T17:47:05.853293Z",
     "iopub.status.busy": "2022-12-12T17:47:05.852872Z",
     "iopub.status.idle": "2022-12-12T17:47:05.945095Z",
     "shell.execute_reply": "2022-12-12T17:47:05.943550Z",
     "shell.execute_reply.started": "2022-12-12T17:47:05.853256Z"
    },
    "papermill": {
     "duration": null,
     "end_time": null,
     "exception": null,
     "start_time": null,
     "status": "pending"
    },
    "tags": []
   },
   "outputs": [],
   "source": [
    "# Overfitting\n",
    "model = Sequential()\n",
    "\n",
    "model.add(Flatten(input_shape=(inputs.shape[1],inputs.shape[2])))\n",
    "model.add(Dense(512, activation='relu', kernel_regularizer = keras.regularizers.l2(0.001)))\n",
    "model.add(Dropout(0.3))\n",
    "model.add(Dense(256, activation='relu', kernel_regularizer = keras.regularizers.l2(0.003)))\n",
    "model.add(Dropout(0.3))\n",
    "model.add(Dense(64, activation='relu', kernel_regularizer = keras.regularizers.l2(0.01)))\n",
    "model.add(Dropout(0.3))\n",
    "model.add(Dense(32, activation='relu'))\n",
    "model.add(Dense(10, activation='softmax'))\n",
    "model.summary()"
   ]
  },
  {
   "cell_type": "code",
   "execution_count": null,
   "id": "e2386556",
   "metadata": {
    "execution": {
     "iopub.execute_input": "2022-12-12T17:47:05.949210Z",
     "iopub.status.busy": "2022-12-12T17:47:05.948822Z",
     "iopub.status.idle": "2022-12-12T17:49:22.328624Z",
     "shell.execute_reply": "2022-12-12T17:49:22.327592Z",
     "shell.execute_reply.started": "2022-12-12T17:47:05.949176Z"
    },
    "papermill": {
     "duration": null,
     "end_time": null,
     "exception": null,
     "start_time": null,
     "status": "pending"
    },
    "tags": []
   },
   "outputs": [],
   "source": [
    "model.compile(optimizer=adam,\n",
    "             loss=\"sparse_categorical_crossentropy\",\n",
    "             metrics=[\"accuracy\"])\n",
    "\n",
    "hist = model.fit(input_train, target_train,\n",
    "                 validation_data = (input_test,target_test),\n",
    "                 epochs = 50,\n",
    "                 batch_size = 32)\n",
    "\n",
    "clear_output()"
   ]
  },
  {
   "cell_type": "code",
   "execution_count": null,
   "id": "b4ba1f17",
   "metadata": {
    "execution": {
     "iopub.execute_input": "2022-12-12T17:49:22.330957Z",
     "iopub.status.busy": "2022-12-12T17:49:22.330565Z",
     "iopub.status.idle": "2022-12-12T17:49:22.667960Z",
     "shell.execute_reply": "2022-12-12T17:49:22.666363Z",
     "shell.execute_reply.started": "2022-12-12T17:49:22.330921Z"
    },
    "papermill": {
     "duration": null,
     "end_time": null,
     "exception": null,
     "start_time": null,
     "status": "pending"
    },
    "tags": []
   },
   "outputs": [],
   "source": [
    "plot_history(hist)"
   ]
  },
  {
   "cell_type": "code",
   "execution_count": null,
   "id": "4c80ef37",
   "metadata": {
    "execution": {
     "iopub.execute_input": "2022-12-12T17:49:22.670424Z",
     "iopub.status.busy": "2022-12-12T17:49:22.670020Z",
     "iopub.status.idle": "2022-12-12T17:49:23.384187Z",
     "shell.execute_reply": "2022-12-12T17:49:23.382564Z",
     "shell.execute_reply.started": "2022-12-12T17:49:22.670390Z"
    },
    "papermill": {
     "duration": null,
     "end_time": null,
     "exception": null,
     "start_time": null,
     "status": "pending"
    },
    "tags": []
   },
   "outputs": [],
   "source": [
    "test_error, test_accuracy = model.evaluate(input_test, target_test, verbose=1)\n",
    "print(f\"Test accuracy: {test_accuracy}\")"
   ]
  },
  {
   "cell_type": "markdown",
   "id": "75758e7e",
   "metadata": {
    "papermill": {
     "duration": null,
     "end_time": null,
     "exception": null,
     "start_time": null,
     "status": "pending"
    },
    "tags": []
   },
   "source": [
    " # CNN"
   ]
  },
  {
   "cell_type": "code",
   "execution_count": null,
   "id": "c61701e6",
   "metadata": {
    "execution": {
     "iopub.execute_input": "2022-12-12T17:49:23.386578Z",
     "iopub.status.busy": "2022-12-12T17:49:23.386139Z",
     "iopub.status.idle": "2022-12-12T17:49:23.396946Z",
     "shell.execute_reply": "2022-12-12T17:49:23.395440Z",
     "shell.execute_reply.started": "2022-12-12T17:49:23.386540Z"
    },
    "papermill": {
     "duration": null,
     "end_time": null,
     "exception": null,
     "start_time": null,
     "status": "pending"
    },
    "tags": []
   },
   "outputs": [],
   "source": [
    "def prepare_dataset(test_size, validation_size):\n",
    "    X,y = load_data(r\"./data.json\")\n",
    "    \n",
    "    X_train, X_test, y_train, y_test = train_test_split(X, y, test_size = test_size)\n",
    "    X_train, X_val, y_train, y_val = train_test_split(X_train, y_train, test_size = validation_size)\n",
    "    X_train = X_train[..., np.newaxis]\n",
    "    X_val = X_val[..., np.newaxis]\n",
    "    X_test = X_test[..., np.newaxis]\n",
    "\n",
    "    return X_train, X_val, X_test, y_train, y_val, y_test"
   ]
  },
  {
   "cell_type": "code",
   "execution_count": null,
   "id": "385cdd9f",
   "metadata": {
    "execution": {
     "iopub.execute_input": "2022-12-12T17:49:23.399283Z",
     "iopub.status.busy": "2022-12-12T17:49:23.398915Z",
     "iopub.status.idle": "2022-12-12T17:49:37.169453Z",
     "shell.execute_reply": "2022-12-12T17:49:37.167944Z",
     "shell.execute_reply.started": "2022-12-12T17:49:23.399238Z"
    },
    "papermill": {
     "duration": null,
     "end_time": null,
     "exception": null,
     "start_time": null,
     "status": "pending"
    },
    "tags": []
   },
   "outputs": [],
   "source": [
    "X_train, X_val, X_test, y_train, y_val, y_test = prepare_dataset(0.25, 0.2)"
   ]
  },
  {
   "cell_type": "code",
   "execution_count": null,
   "id": "072b8d58",
   "metadata": {
    "execution": {
     "iopub.execute_input": "2022-12-12T17:49:37.171641Z",
     "iopub.status.busy": "2022-12-12T17:49:37.171316Z",
     "iopub.status.idle": "2022-12-12T17:49:37.178632Z",
     "shell.execute_reply": "2022-12-12T17:49:37.177160Z",
     "shell.execute_reply.started": "2022-12-12T17:49:37.171612Z"
    },
    "papermill": {
     "duration": null,
     "end_time": null,
     "exception": null,
     "start_time": null,
     "status": "pending"
    },
    "tags": []
   },
   "outputs": [],
   "source": [
    "input_shape = (X_train.shape[1],X_train.shape[2],X_train.shape[3])\n",
    "print(input_shape)"
   ]
  },
  {
   "cell_type": "code",
   "execution_count": null,
   "id": "9aa7bed6",
   "metadata": {
    "execution": {
     "iopub.execute_input": "2022-12-12T17:49:37.180722Z",
     "iopub.status.busy": "2022-12-12T17:49:37.180269Z",
     "iopub.status.idle": "2022-12-12T17:49:37.314048Z",
     "shell.execute_reply": "2022-12-12T17:49:37.312529Z",
     "shell.execute_reply.started": "2022-12-12T17:49:37.180690Z"
    },
    "papermill": {
     "duration": null,
     "end_time": null,
     "exception": null,
     "start_time": null,
     "status": "pending"
    },
    "tags": []
   },
   "outputs": [],
   "source": [
    "model = Sequential()\n",
    "model.add(Conv2D(64, (3, 3), activation = \"relu\", input_shape = input_shape))\n",
    "model.add(MaxPool2D((3, 3), strides=(2, 2), padding=\"same\"))\n",
    "model.add(BatchNormalization())\n",
    "\n",
    "model.add(Conv2D(32, (3, 3), activation = \"relu\"))\n",
    "model.add(MaxPool2D((3, 3), strides=(2, 2), padding=\"same\"))\n",
    "model.add(BatchNormalization())\n",
    "\n",
    "model.add(Conv2D(32, (2, 2), activation = \"relu\"))\n",
    "model.add(MaxPool2D((2, 2), strides=(2, 2), padding=\"same\"))\n",
    "model.add(BatchNormalization())\n",
    "\n",
    "model.add(Conv2D(16, (1, 1), activation = \"relu\"))\n",
    "model.add(MaxPool2D((1, 1), strides=(2, 2), padding=\"same\"))\n",
    "model.add(BatchNormalization())\n",
    "\n",
    "model.add(Flatten())\n",
    "model.add(Dense(64, activation=\"relu\"))\n",
    "model.add(Dropout(0.3))\n",
    "model.add(Dense(10, activation=\"softmax\"))\n",
    "\n",
    "model.summary()"
   ]
  },
  {
   "cell_type": "code",
   "execution_count": null,
   "id": "3856fb29",
   "metadata": {
    "execution": {
     "iopub.execute_input": "2022-12-12T17:49:37.315847Z",
     "iopub.status.busy": "2022-12-12T17:49:37.315542Z",
     "iopub.status.idle": "2022-12-12T17:54:35.356491Z",
     "shell.execute_reply": "2022-12-12T17:54:35.354710Z",
     "shell.execute_reply.started": "2022-12-12T17:49:37.315819Z"
    },
    "papermill": {
     "duration": null,
     "end_time": null,
     "exception": null,
     "start_time": null,
     "status": "pending"
    },
    "tags": []
   },
   "outputs": [],
   "source": [
    "model.compile(optimizer=adam,\n",
    "              loss=\"sparse_categorical_crossentropy\",\n",
    "              metrics=[\"accuracy\"])\n",
    "\n",
    "hist = model.fit(X_train, y_train,\n",
    "                 validation_data = (X_val, y_val),\n",
    "                 epochs = 40,\n",
    "                 batch_size = 32)"
   ]
  },
  {
   "cell_type": "code",
   "execution_count": null,
   "id": "26b082de",
   "metadata": {
    "execution": {
     "iopub.execute_input": "2022-12-12T17:54:35.359940Z",
     "iopub.status.busy": "2022-12-12T17:54:35.359339Z",
     "iopub.status.idle": "2022-12-12T17:54:35.703040Z",
     "shell.execute_reply": "2022-12-12T17:54:35.701056Z",
     "shell.execute_reply.started": "2022-12-12T17:54:35.359890Z"
    },
    "papermill": {
     "duration": null,
     "end_time": null,
     "exception": null,
     "start_time": null,
     "status": "pending"
    },
    "tags": []
   },
   "outputs": [],
   "source": [
    "plot_history(hist)"
   ]
  },
  {
   "cell_type": "code",
   "execution_count": null,
   "id": "fe828a2c",
   "metadata": {
    "execution": {
     "iopub.execute_input": "2022-12-12T17:54:35.705485Z",
     "iopub.status.busy": "2022-12-12T17:54:35.705101Z",
     "iopub.status.idle": "2022-12-12T17:54:36.723690Z",
     "shell.execute_reply": "2022-12-12T17:54:36.722583Z",
     "shell.execute_reply.started": "2022-12-12T17:54:35.705436Z"
    },
    "papermill": {
     "duration": null,
     "end_time": null,
     "exception": null,
     "start_time": null,
     "status": "pending"
    },
    "tags": []
   },
   "outputs": [],
   "source": [
    "test_error, test_accuracy = model.evaluate(X_test, y_test, verbose=1)\n",
    "print(f\"Test accuracy: {test_accuracy}\")"
   ]
  },
  {
   "cell_type": "code",
   "execution_count": null,
   "id": "25b27341",
   "metadata": {
    "execution": {
     "iopub.execute_input": "2022-12-12T17:54:36.725583Z",
     "iopub.status.busy": "2022-12-12T17:54:36.725213Z",
     "iopub.status.idle": "2022-12-12T17:54:36.732260Z",
     "shell.execute_reply": "2022-12-12T17:54:36.730788Z",
     "shell.execute_reply.started": "2022-12-12T17:54:36.725550Z"
    },
    "papermill": {
     "duration": null,
     "end_time": null,
     "exception": null,
     "start_time": null,
     "status": "pending"
    },
    "tags": []
   },
   "outputs": [],
   "source": [
    "def predict(model, X, y):\n",
    "    X = X[np.newaxis,...]\n",
    "    prediction = model.predict(X)\n",
    "    predicted_index = np.argmax(prediction, axis=1)\n",
    "    print(f\"Expected index: {y}, Predicted index: {predicted_index}\")"
   ]
  },
  {
   "cell_type": "code",
   "execution_count": null,
   "id": "c6de2d9a",
   "metadata": {
    "execution": {
     "iopub.execute_input": "2022-12-12T17:54:36.735413Z",
     "iopub.status.busy": "2022-12-12T17:54:36.734832Z",
     "iopub.status.idle": "2022-12-12T17:54:36.928611Z",
     "shell.execute_reply": "2022-12-12T17:54:36.927495Z",
     "shell.execute_reply.started": "2022-12-12T17:54:36.735381Z"
    },
    "papermill": {
     "duration": null,
     "end_time": null,
     "exception": null,
     "start_time": null,
     "status": "pending"
    },
    "tags": []
   },
   "outputs": [],
   "source": [
    "predict(model, X_test[10], y_test[10])"
   ]
  }
 ],
 "metadata": {
  "kernelspec": {
   "display_name": "Python 3",
   "language": "python",
   "name": "python3"
  },
  "language_info": {
   "codemirror_mode": {
    "name": "ipython",
    "version": 3
   },
   "file_extension": ".py",
   "mimetype": "text/x-python",
   "name": "python",
   "nbconvert_exporter": "python",
   "pygments_lexer": "ipython3",
   "version": "3.7.12"
  },
  "papermill": {
   "default_parameters": {},
   "duration": 10.962167,
   "end_time": "2022-12-13T10:56:41.774548",
   "environment_variables": {},
   "exception": true,
   "input_path": "__notebook__.ipynb",
   "output_path": "__notebook__.ipynb",
   "parameters": {},
   "start_time": "2022-12-13T10:56:30.812381",
   "version": "2.3.4"
  }
 },
 "nbformat": 4,
 "nbformat_minor": 5
}
