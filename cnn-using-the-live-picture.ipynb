{
 "cells": [
  {
   "cell_type": "code",
   "execution_count": 1,
   "id": "936a93b0",
   "metadata": {
    "execution": {
     "iopub.execute_input": "2022-12-13T11:00:32.719913Z",
     "iopub.status.busy": "2022-12-13T11:00:32.719080Z",
     "iopub.status.idle": "2022-12-13T11:00:32.728480Z",
     "shell.execute_reply": "2022-12-13T11:00:32.727889Z"
    },
    "papermill": {
     "duration": 0.018047,
     "end_time": "2022-12-13T11:00:32.730312",
     "exception": false,
     "start_time": "2022-12-13T11:00:32.712265",
     "status": "completed"
    },
    "tags": []
   },
   "outputs": [],
   "source": [
    "TrainingImagePath=\"/kaggle/input/face-recognition-data/Image_Test-20220909T071021Z-001\"\n",
    "validationImagePath =  \"/kaggle/input/face-recognition-data/Image_Train-20220909T071110Z-001\""
   ]
  },
  {
   "cell_type": "code",
   "execution_count": 2,
   "id": "8d7b6f42",
   "metadata": {
    "execution": {
     "iopub.execute_input": "2022-12-13T11:00:32.740156Z",
     "iopub.status.busy": "2022-12-13T11:00:32.739748Z",
     "iopub.status.idle": "2022-12-13T11:00:38.584029Z",
     "shell.execute_reply": "2022-12-13T11:00:38.583077Z"
    },
    "papermill": {
     "duration": 5.851897,
     "end_time": "2022-12-13T11:00:38.586542",
     "exception": false,
     "start_time": "2022-12-13T11:00:32.734645",
     "status": "completed"
    },
    "tags": []
   },
   "outputs": [],
   "source": [
    "from keras.preprocessing.image import ImageDataGenerator"
   ]
  },
  {
   "cell_type": "code",
   "execution_count": 3,
   "id": "cfb2882f",
   "metadata": {
    "execution": {
     "iopub.execute_input": "2022-12-13T11:00:38.596805Z",
     "iopub.status.busy": "2022-12-13T11:00:38.596247Z",
     "iopub.status.idle": "2022-12-13T11:00:38.600890Z",
     "shell.execute_reply": "2022-12-13T11:00:38.600085Z"
    },
    "papermill": {
     "duration": 0.01216,
     "end_time": "2022-12-13T11:00:38.603229",
     "exception": false,
     "start_time": "2022-12-13T11:00:38.591069",
     "status": "completed"
    },
    "tags": []
   },
   "outputs": [],
   "source": [
    "#---------Base Model\n",
    "train_datagen=ImageDataGenerator(rescale=1./225)\n",
    "test_datagen=ImageDataGenerator(rescale=1./225)"
   ]
  },
  {
   "cell_type": "code",
   "execution_count": 4,
   "id": "01f980f5",
   "metadata": {
    "execution": {
     "iopub.execute_input": "2022-12-13T11:00:38.613268Z",
     "iopub.status.busy": "2022-12-13T11:00:38.612956Z",
     "iopub.status.idle": "2022-12-13T11:00:39.063986Z",
     "shell.execute_reply": "2022-12-13T11:00:39.062765Z"
    },
    "papermill": {
     "duration": 0.458151,
     "end_time": "2022-12-13T11:00:39.066034",
     "exception": false,
     "start_time": "2022-12-13T11:00:38.607883",
     "status": "completed"
    },
    "tags": []
   },
   "outputs": [
    {
     "name": "stdout",
     "output_type": "stream",
     "text": [
      "Found 96 images belonging to 1 classes.\n"
     ]
    }
   ],
   "source": [
    "# Generating the Training Data\n",
    "training_set = train_datagen.flow_from_directory(TrainingImagePath,\n",
    "                                                 target_size=(64, 64),\n",
    "                                                 batch_size=20,\n",
    "                                                 class_mode='categorical')"
   ]
  },
  {
   "cell_type": "code",
   "execution_count": 5,
   "id": "4d030986",
   "metadata": {
    "execution": {
     "iopub.execute_input": "2022-12-13T11:00:39.076488Z",
     "iopub.status.busy": "2022-12-13T11:00:39.076052Z",
     "iopub.status.idle": "2022-12-13T11:00:39.187870Z",
     "shell.execute_reply": "2022-12-13T11:00:39.186582Z"
    },
    "papermill": {
     "duration": 0.119754,
     "end_time": "2022-12-13T11:00:39.190307",
     "exception": false,
     "start_time": "2022-12-13T11:00:39.070553",
     "status": "completed"
    },
    "tags": []
   },
   "outputs": [
    {
     "name": "stdout",
     "output_type": "stream",
     "text": [
      "Found 224 images belonging to 1 classes.\n"
     ]
    }
   ],
   "source": [
    "# Generating the Validation Data\n",
    "validation_set = test_datagen.flow_from_directory(validationImagePath,\n",
    "                                                  target_size=(64, 64),\n",
    "                                                  batch_size=20,\n",
    "                                                  class_mode='categorical')"
   ]
  },
  {
   "cell_type": "code",
   "execution_count": 6,
   "id": "d994af31",
   "metadata": {
    "execution": {
     "iopub.execute_input": "2022-12-13T11:00:39.201124Z",
     "iopub.status.busy": "2022-12-13T11:00:39.200141Z",
     "iopub.status.idle": "2022-12-13T11:00:39.205870Z",
     "shell.execute_reply": "2022-12-13T11:00:39.204600Z"
    },
    "papermill": {
     "duration": 0.013208,
     "end_time": "2022-12-13T11:00:39.208111",
     "exception": false,
     "start_time": "2022-12-13T11:00:39.194903",
     "status": "completed"
    },
    "tags": []
   },
   "outputs": [],
   "source": [
    "#______________________Create CNN deep learning model\n",
    "from keras.models import Sequential\n",
    "from keras.layers import Convolution2D\n",
    "from keras.layers import MaxPool2D\n",
    "from keras.layers import Flatten\n",
    "from keras.layers import Dense"
   ]
  },
  {
   "cell_type": "code",
   "execution_count": 7,
   "id": "e671e6bf",
   "metadata": {
    "execution": {
     "iopub.execute_input": "2022-12-13T11:00:39.218904Z",
     "iopub.status.busy": "2022-12-13T11:00:39.218314Z",
     "iopub.status.idle": "2022-12-13T11:00:39.273375Z",
     "shell.execute_reply": "2022-12-13T11:00:39.272699Z"
    },
    "papermill": {
     "duration": 0.062565,
     "end_time": "2022-12-13T11:00:39.275305",
     "exception": false,
     "start_time": "2022-12-13T11:00:39.212740",
     "status": "completed"
    },
    "tags": []
   },
   "outputs": [
    {
     "name": "stderr",
     "output_type": "stream",
     "text": [
      "2022-12-13 11:00:39.248150: I tensorflow/core/common_runtime/process_util.cc:146] Creating new thread pool with default inter op setting: 2. Tune using inter_op_parallelism_threads for best performance.\n"
     ]
    }
   ],
   "source": [
    "#Initializing the Convolutional Neural Network\n",
    "classifier=Sequential()"
   ]
  },
  {
   "cell_type": "code",
   "execution_count": 8,
   "id": "77286417",
   "metadata": {
    "execution": {
     "iopub.execute_input": "2022-12-13T11:00:39.285524Z",
     "iopub.status.busy": "2022-12-13T11:00:39.285039Z",
     "iopub.status.idle": "2022-12-13T11:00:39.289913Z",
     "shell.execute_reply": "2022-12-13T11:00:39.289351Z"
    },
    "papermill": {
     "duration": 0.011939,
     "end_time": "2022-12-13T11:00:39.291624",
     "exception": false,
     "start_time": "2022-12-13T11:00:39.279685",
     "status": "completed"
    },
    "tags": []
   },
   "outputs": [],
   "source": [
    "#STEP--1 Convolution\n",
    "# Adding the first layer of CNN\n",
    "# we are using the format (64,64,3) because we are using TensorFlow backend\n",
    "# It means 3 matrix of size (64X64) pixels representing Red,Green and Blue components of pixels"
   ]
  },
  {
   "cell_type": "code",
   "execution_count": 9,
   "id": "b26cc908",
   "metadata": {
    "execution": {
     "iopub.execute_input": "2022-12-13T11:00:39.301244Z",
     "iopub.status.busy": "2022-12-13T11:00:39.300966Z",
     "iopub.status.idle": "2022-12-13T11:00:39.356485Z",
     "shell.execute_reply": "2022-12-13T11:00:39.355546Z"
    },
    "papermill": {
     "duration": 0.062475,
     "end_time": "2022-12-13T11:00:39.358552",
     "exception": false,
     "start_time": "2022-12-13T11:00:39.296077",
     "status": "completed"
    },
    "tags": []
   },
   "outputs": [],
   "source": [
    "classifier.add(Convolution2D(32, kernel_size=(3, 3),\n",
    "                             input_shape=(64,64,3), activation='relu')) "
   ]
  },
  {
   "cell_type": "code",
   "execution_count": 10,
   "id": "7b718c40",
   "metadata": {
    "execution": {
     "iopub.execute_input": "2022-12-13T11:00:39.369772Z",
     "iopub.status.busy": "2022-12-13T11:00:39.369108Z",
     "iopub.status.idle": "2022-12-13T11:00:39.377262Z",
     "shell.execute_reply": "2022-12-13T11:00:39.376359Z"
    },
    "papermill": {
     "duration": 0.016552,
     "end_time": "2022-12-13T11:00:39.379446",
     "exception": false,
     "start_time": "2022-12-13T11:00:39.362894",
     "status": "completed"
    },
    "tags": []
   },
   "outputs": [],
   "source": [
    "# STEP--2 MAX Pooling'''\n",
    "classifier.add(MaxPool2D(pool_size=(2,2)))"
   ]
  },
  {
   "cell_type": "code",
   "execution_count": 11,
   "id": "7560d8ec",
   "metadata": {
    "execution": {
     "iopub.execute_input": "2022-12-13T11:00:39.389505Z",
     "iopub.status.busy": "2022-12-13T11:00:39.389004Z",
     "iopub.status.idle": "2022-12-13T11:00:39.401910Z",
     "shell.execute_reply": "2022-12-13T11:00:39.400572Z"
    },
    "papermill": {
     "duration": 0.020702,
     "end_time": "2022-12-13T11:00:39.404524",
     "exception": false,
     "start_time": "2022-12-13T11:00:39.383822",
     "status": "completed"
    },
    "tags": []
   },
   "outputs": [],
   "source": [
    "#________________ ADDITIONAL LAYER of CONVOLUTION for better accuracy '''\n",
    "classifier.add(Convolution2D(64, kernel_size=(3, 3), activation='relu'))"
   ]
  },
  {
   "cell_type": "code",
   "execution_count": 12,
   "id": "b7279305",
   "metadata": {
    "execution": {
     "iopub.execute_input": "2022-12-13T11:00:39.415096Z",
     "iopub.status.busy": "2022-12-13T11:00:39.414707Z",
     "iopub.status.idle": "2022-12-13T11:00:39.422770Z",
     "shell.execute_reply": "2022-12-13T11:00:39.421821Z"
    },
    "papermill": {
     "duration": 0.015996,
     "end_time": "2022-12-13T11:00:39.425113",
     "exception": false,
     "start_time": "2022-12-13T11:00:39.409117",
     "status": "completed"
    },
    "tags": []
   },
   "outputs": [],
   "source": [
    "classifier.add(MaxPool2D(pool_size=(2,2)))"
   ]
  },
  {
   "cell_type": "code",
   "execution_count": 13,
   "id": "f8510105",
   "metadata": {
    "execution": {
     "iopub.execute_input": "2022-12-13T11:00:39.435604Z",
     "iopub.status.busy": "2022-12-13T11:00:39.434863Z",
     "iopub.status.idle": "2022-12-13T11:00:39.446985Z",
     "shell.execute_reply": "2022-12-13T11:00:39.446331Z"
    },
    "papermill": {
     "duration": 0.019143,
     "end_time": "2022-12-13T11:00:39.448857",
     "exception": false,
     "start_time": "2022-12-13T11:00:39.429714",
     "status": "completed"
    },
    "tags": []
   },
   "outputs": [],
   "source": [
    "#________________ ADDITIONAL LAYER of CONVOLUTION for better accuracy '''\n",
    "classifier.add(Convolution2D(64, kernel_size=(3, 3), activation='relu')) "
   ]
  },
  {
   "cell_type": "code",
   "execution_count": 14,
   "id": "919f90bd",
   "metadata": {
    "execution": {
     "iopub.execute_input": "2022-12-13T11:00:39.459493Z",
     "iopub.status.busy": "2022-12-13T11:00:39.458902Z",
     "iopub.status.idle": "2022-12-13T11:00:39.469578Z",
     "shell.execute_reply": "2022-12-13T11:00:39.468537Z"
    },
    "papermill": {
     "duration": 0.018359,
     "end_time": "2022-12-13T11:00:39.471582",
     "exception": false,
     "start_time": "2022-12-13T11:00:39.453223",
     "status": "completed"
    },
    "tags": []
   },
   "outputs": [],
   "source": [
    "# STEP--3 FLattening'''\n",
    "classifier.add(Flatten()) "
   ]
  },
  {
   "cell_type": "code",
   "execution_count": 15,
   "id": "fcaadc70",
   "metadata": {
    "execution": {
     "iopub.execute_input": "2022-12-13T11:00:39.482026Z",
     "iopub.status.busy": "2022-12-13T11:00:39.481488Z",
     "iopub.status.idle": "2022-12-13T11:00:39.505755Z",
     "shell.execute_reply": "2022-12-13T11:00:39.504334Z"
    },
    "papermill": {
     "duration": 0.031732,
     "end_time": "2022-12-13T11:00:39.507677",
     "exception": false,
     "start_time": "2022-12-13T11:00:39.475945",
     "status": "completed"
    },
    "tags": []
   },
   "outputs": [
    {
     "name": "stdout",
     "output_type": "stream",
     "text": [
      "Model: \"sequential\"\n",
      "_________________________________________________________________\n",
      "Layer (type)                 Output Shape              Param #   \n",
      "=================================================================\n",
      "conv2d (Conv2D)              (None, 62, 62, 32)        896       \n",
      "_________________________________________________________________\n",
      "max_pooling2d (MaxPooling2D) (None, 31, 31, 32)        0         \n",
      "_________________________________________________________________\n",
      "conv2d_1 (Conv2D)            (None, 29, 29, 64)        18496     \n",
      "_________________________________________________________________\n",
      "max_pooling2d_1 (MaxPooling2 (None, 14, 14, 64)        0         \n",
      "_________________________________________________________________\n",
      "conv2d_2 (Conv2D)            (None, 12, 12, 64)        36928     \n",
      "_________________________________________________________________\n",
      "flatten (Flatten)            (None, 9216)              0         \n",
      "_________________________________________________________________\n",
      "dense (Dense)                (None, 64)                589888    \n",
      "_________________________________________________________________\n",
      "dense_1 (Dense)              (None, 16)                1040      \n",
      "=================================================================\n",
      "Total params: 647,248\n",
      "Trainable params: 647,248\n",
      "Non-trainable params: 0\n",
      "_________________________________________________________________\n"
     ]
    }
   ],
   "source": [
    "# STEP--4 Fully Connected Neural Network'''\n",
    "classifier.add(Dense(64, activation='relu'))\n",
    "classifier.add(Dense(16, activation='softmax'))\n",
    "classifier.summary()"
   ]
  },
  {
   "cell_type": "code",
   "execution_count": 16,
   "id": "3a8fe34d",
   "metadata": {
    "execution": {
     "iopub.execute_input": "2022-12-13T11:00:39.520424Z",
     "iopub.status.busy": "2022-12-13T11:00:39.519978Z",
     "iopub.status.idle": "2022-12-13T11:00:39.686405Z",
     "shell.execute_reply": "2022-12-13T11:00:39.684574Z"
    },
    "papermill": {
     "duration": 0.174923,
     "end_time": "2022-12-13T11:00:39.688813",
     "exception": false,
     "start_time": "2022-12-13T11:00:39.513890",
     "status": "completed"
    },
    "tags": []
   },
   "outputs": [],
   "source": [
    "#Compiling the CNN\n",
    "classifier.compile(loss='categorical_crossentropy',\n",
    "                   optimizer='adam', metrics=['accuracy'])"
   ]
  },
  {
   "cell_type": "code",
   "execution_count": 17,
   "id": "70433e39",
   "metadata": {
    "execution": {
     "iopub.execute_input": "2022-12-13T11:00:39.699693Z",
     "iopub.status.busy": "2022-12-13T11:00:39.699117Z",
     "iopub.status.idle": "2022-12-13T11:17:08.143096Z",
     "shell.execute_reply": "2022-12-13T11:17:08.142151Z"
    },
    "papermill": {
     "duration": 988.474643,
     "end_time": "2022-12-13T11:17:08.168122",
     "exception": false,
     "start_time": "2022-12-13T11:00:39.693479",
     "status": "completed"
    },
    "tags": []
   },
   "outputs": [
    {
     "name": "stderr",
     "output_type": "stream",
     "text": [
      "/opt/conda/lib/python3.7/site-packages/keras/engine/training.py:1972: UserWarning: `Model.fit_generator` is deprecated and will be removed in a future version. Please use `Model.fit`, which supports generators.\n",
      "  warnings.warn('`Model.fit_generator` is deprecated and '\n",
      "2022-12-13 11:00:40.778318: I tensorflow/compiler/mlir/mlir_graph_optimization_pass.cc:185] None of the MLIR Optimization Passes are enabled (registered 2)\n"
     ]
    },
    {
     "name": "stdout",
     "output_type": "stream",
     "text": [
      "Epoch 1/50\n",
      "5/5 [==============================] - 22s 5s/step - loss: 60.1661 - accuracy: 0.0000e+00 - val_loss: 160.8280 - val_accuracy: 0.0000e+00\n",
      "Epoch 2/50\n",
      "5/5 [==============================] - 17s 4s/step - loss: 356.4633 - accuracy: 0.0000e+00 - val_loss: 914.5284 - val_accuracy: 0.0000e+00\n",
      "Epoch 3/50\n",
      "5/5 [==============================] - 17s 4s/step - loss: 2262.2305 - accuracy: 0.0000e+00 - val_loss: 5344.1616 - val_accuracy: 0.0000e+00\n",
      "Epoch 4/50\n",
      "5/5 [==============================] - 17s 4s/step - loss: 10055.6338 - accuracy: 0.0000e+00 - val_loss: 19134.5469 - val_accuracy: 0.0000e+00\n",
      "Epoch 5/50\n",
      "5/5 [==============================] - 17s 4s/step - loss: 31926.8418 - accuracy: 0.0000e+00 - val_loss: 51037.4180 - val_accuracy: 0.0000e+00\n",
      "Epoch 6/50\n",
      "5/5 [==============================] - 17s 4s/step - loss: 76603.0703 - accuracy: 0.0000e+00 - val_loss: 119624.9375 - val_accuracy: 0.0000e+00\n",
      "Epoch 7/50\n",
      "5/5 [==============================] - 17s 4s/step - loss: 177807.2656 - accuracy: 0.0000e+00 - val_loss: 259994.7031 - val_accuracy: 0.0000e+00\n",
      "Epoch 8/50\n",
      "5/5 [==============================] - 16s 4s/step - loss: 364640.0000 - accuracy: 0.0000e+00 - val_loss: 513195.3438 - val_accuracy: 0.0000e+00\n",
      "Epoch 9/50\n",
      "5/5 [==============================] - 17s 4s/step - loss: 696818.4375 - accuracy: 0.0000e+00 - val_loss: 927692.5000 - val_accuracy: 0.0000e+00\n",
      "Epoch 10/50\n",
      "5/5 [==============================] - 17s 4s/step - loss: 1282836.1250 - accuracy: 0.0000e+00 - val_loss: 1668765.3750 - val_accuracy: 0.0000e+00\n",
      "Epoch 11/50\n",
      "5/5 [==============================] - 17s 4s/step - loss: 2168868.2500 - accuracy: 0.0000e+00 - val_loss: 2745985.5000 - val_accuracy: 0.0000e+00\n",
      "Epoch 12/50\n",
      "5/5 [==============================] - 17s 4s/step - loss: 3556046.2500 - accuracy: 0.0000e+00 - val_loss: 4338516.5000 - val_accuracy: 0.0000e+00\n",
      "Epoch 13/50\n",
      "5/5 [==============================] - 17s 4s/step - loss: 5503003.5000 - accuracy: 0.3229 - val_loss: 6680207.5000 - val_accuracy: 0.0000e+00\n",
      "Epoch 14/50\n",
      "5/5 [==============================] - 17s 4s/step - loss: 8479073.0000 - accuracy: 0.2083 - val_loss: 10045566.0000 - val_accuracy: 0.0000e+00\n",
      "Epoch 15/50\n",
      "5/5 [==============================] - 17s 4s/step - loss: 12577385.0000 - accuracy: 0.0000e+00 - val_loss: 14585493.0000 - val_accuracy: 0.0000e+00\n",
      "Epoch 16/50\n",
      "5/5 [==============================] - 17s 4s/step - loss: 17998290.0000 - accuracy: 0.1875 - val_loss: 20640292.0000 - val_accuracy: 0.5893\n",
      "Epoch 17/50\n",
      "5/5 [==============================] - 17s 4s/step - loss: 25070896.0000 - accuracy: 0.2812 - val_loss: 28542518.0000 - val_accuracy: 0.0000e+00\n",
      "Epoch 18/50\n",
      "5/5 [==============================] - 17s 4s/step - loss: 34444372.0000 - accuracy: 0.2083 - val_loss: 38679884.0000 - val_accuracy: 0.0000e+00\n",
      "Epoch 19/50\n",
      "5/5 [==============================] - 17s 4s/step - loss: 46256896.0000 - accuracy: 0.0000e+00 - val_loss: 51266248.0000 - val_accuracy: 1.0000\n",
      "Epoch 20/50\n",
      "5/5 [==============================] - 17s 4s/step - loss: 60462480.0000 - accuracy: 0.3750 - val_loss: 66048916.0000 - val_accuracy: 0.0000e+00\n",
      "Epoch 21/50\n",
      "5/5 [==============================] - 17s 4s/step - loss: 77077424.0000 - accuracy: 0.0000e+00 - val_loss: 84063240.0000 - val_accuracy: 0.9955\n",
      "Epoch 22/50\n",
      "5/5 [==============================] - 17s 4s/step - loss: 97943232.0000 - accuracy: 0.3750 - val_loss: 105537448.0000 - val_accuracy: 0.0000e+00\n",
      "Epoch 23/50\n",
      "5/5 [==============================] - 17s 4s/step - loss: 121884632.0000 - accuracy: 0.0000e+00 - val_loss: 131311816.0000 - val_accuracy: 0.0000e+00\n",
      "Epoch 24/50\n",
      "5/5 [==============================] - 16s 4s/step - loss: 151774208.0000 - accuracy: 0.3229 - val_loss: 160610912.0000 - val_accuracy: 0.0000e+00\n",
      "Epoch 25/50\n",
      "5/5 [==============================] - 17s 4s/step - loss: 184538688.0000 - accuracy: 0.0104 - val_loss: 194357520.0000 - val_accuracy: 1.0000\n",
      "Epoch 26/50\n",
      "5/5 [==============================] - 17s 4s/step - loss: 222845104.0000 - accuracy: 0.2083 - val_loss: 234907312.0000 - val_accuracy: 0.0000e+00\n",
      "Epoch 27/50\n",
      "5/5 [==============================] - 17s 4s/step - loss: 268276480.0000 - accuracy: 0.1667 - val_loss: 280780832.0000 - val_accuracy: 0.0000e+00\n",
      "Epoch 28/50\n",
      "5/5 [==============================] - 17s 4s/step - loss: 320725376.0000 - accuracy: 0.0000e+00 - val_loss: 333509120.0000 - val_accuracy: 0.9732\n",
      "Epoch 29/50\n",
      "5/5 [==============================] - 17s 4s/step - loss: 379389568.0000 - accuracy: 0.1562 - val_loss: 394038176.0000 - val_accuracy: 0.0000e+00\n",
      "Epoch 30/50\n",
      "5/5 [==============================] - 17s 4s/step - loss: 446543232.0000 - accuracy: 0.2083 - val_loss: 459818496.0000 - val_accuracy: 0.0000e+00\n",
      "Epoch 31/50\n",
      "5/5 [==============================] - 17s 4s/step - loss: 521191040.0000 - accuracy: 0.2083 - val_loss: 531019072.0000 - val_accuracy: 0.0000e+00\n",
      "Epoch 32/50\n",
      "5/5 [==============================] - 16s 4s/step - loss: 599078848.0000 - accuracy: 0.0000e+00 - val_loss: 612250304.0000 - val_accuracy: 0.0000e+00\n",
      "Epoch 33/50\n",
      "5/5 [==============================] - 17s 4s/step - loss: 685577280.0000 - accuracy: 0.2188 - val_loss: 692489664.0000 - val_accuracy: 0.0000e+00\n",
      "Epoch 34/50\n",
      "5/5 [==============================] - 17s 4s/step - loss: 780488000.0000 - accuracy: 0.2188 - val_loss: 796255168.0000 - val_accuracy: 0.0000e+00\n",
      "Epoch 35/50\n",
      "5/5 [==============================] - 17s 4s/step - loss: 881563072.0000 - accuracy: 0.0000e+00 - val_loss: 893803840.0000 - val_accuracy: 0.0000e+00\n",
      "Epoch 36/50\n",
      "5/5 [==============================] - 17s 4s/step - loss: 997592640.0000 - accuracy: 0.2708 - val_loss: 1004162432.0000 - val_accuracy: 0.0000e+00\n",
      "Epoch 37/50\n",
      "5/5 [==============================] - 16s 4s/step - loss: 1117313408.0000 - accuracy: 0.0000e+00 - val_loss: 1117312640.0000 - val_accuracy: 0.0000e+00\n",
      "Epoch 38/50\n",
      "5/5 [==============================] - 17s 4s/step - loss: 1248581376.0000 - accuracy: 0.2604 - val_loss: 1264838016.0000 - val_accuracy: 0.0000e+00\n",
      "Epoch 39/50\n",
      "5/5 [==============================] - 17s 4s/step - loss: 1398813312.0000 - accuracy: 0.0000e+00 - val_loss: 1378745728.0000 - val_accuracy: 0.0000e+00\n",
      "Epoch 40/50\n",
      "5/5 [==============================] - 17s 4s/step - loss: 1535814528.0000 - accuracy: 0.2083 - val_loss: 1532070656.0000 - val_accuracy: 0.0000e+00\n",
      "Epoch 41/50\n",
      "5/5 [==============================] - 17s 4s/step - loss: 1702921088.0000 - accuracy: 0.2083 - val_loss: 1668934528.0000 - val_accuracy: 0.0000e+00\n",
      "Epoch 42/50\n",
      "5/5 [==============================] - 17s 4s/step - loss: 1846800000.0000 - accuracy: 0.0000e+00 - val_loss: 1810619520.0000 - val_accuracy: 0.0000e+00\n",
      "Epoch 43/50\n",
      "5/5 [==============================] - 17s 4s/step - loss: 2013000320.0000 - accuracy: 0.2083 - val_loss: 2013476736.0000 - val_accuracy: 0.0000e+00\n",
      "Epoch 44/50\n",
      "5/5 [==============================] - 17s 4s/step - loss: 2221372672.0000 - accuracy: 0.0000e+00 - val_loss: 2244793600.0000 - val_accuracy: 0.0000e+00\n",
      "Epoch 45/50\n",
      "5/5 [==============================] - 17s 4s/step - loss: 2432444160.0000 - accuracy: 0.2083 - val_loss: 2424255232.0000 - val_accuracy: 0.0000e+00\n",
      "Epoch 46/50\n",
      "5/5 [==============================] - 17s 4s/step - loss: 2641668608.0000 - accuracy: 0.0000e+00 - val_loss: 2591700736.0000 - val_accuracy: 0.0000e+00\n",
      "Epoch 47/50\n",
      "5/5 [==============================] - 17s 4s/step - loss: 2829053440.0000 - accuracy: 0.2083 - val_loss: 2806824448.0000 - val_accuracy: 0.0000e+00\n",
      "Epoch 48/50\n",
      "5/5 [==============================] - 17s 4s/step - loss: 3063636736.0000 - accuracy: 0.0000e+00 - val_loss: 3001063936.0000 - val_accuracy: 0.0000e+00\n",
      "Epoch 49/50\n",
      "5/5 [==============================] - 17s 4s/step - loss: 3277776128.0000 - accuracy: 0.2083 - val_loss: 3284273408.0000 - val_accuracy: 0.0000e+00\n",
      "Epoch 50/50\n",
      "5/5 [==============================] - 17s 4s/step - loss: 3605310208.0000 - accuracy: 0.0000e+00 - val_loss: 3460953344.0000 - val_accuracy: 0.0000e+00\n"
     ]
    }
   ],
   "source": [
    "# Starting the model training\n",
    "history = classifier.fit_generator(training_set, epochs=50, \n",
    "                         validation_data=validation_set)"
   ]
  },
  {
   "cell_type": "code",
   "execution_count": null,
   "id": "437240cb",
   "metadata": {
    "papermill": {
     "duration": 0.024644,
     "end_time": "2022-12-13T11:17:08.216492",
     "exception": false,
     "start_time": "2022-12-13T11:17:08.191848",
     "status": "completed"
    },
    "tags": []
   },
   "outputs": [],
   "source": []
  }
 ],
 "metadata": {
  "kernelspec": {
   "display_name": "Python 3",
   "language": "python",
   "name": "python3"
  },
  "language_info": {
   "codemirror_mode": {
    "name": "ipython",
    "version": 3
   },
   "file_extension": ".py",
   "mimetype": "text/x-python",
   "name": "python",
   "nbconvert_exporter": "python",
   "pygments_lexer": "ipython3",
   "version": "3.7.12"
  },
  "papermill": {
   "default_parameters": {},
   "duration": 1006.425551,
   "end_time": "2022-12-13T11:17:11.680097",
   "environment_variables": {},
   "exception": null,
   "input_path": "__notebook__.ipynb",
   "output_path": "__notebook__.ipynb",
   "parameters": {},
   "start_time": "2022-12-13T11:00:25.254546",
   "version": "2.3.4"
  }
 },
 "nbformat": 4,
 "nbformat_minor": 5
}
