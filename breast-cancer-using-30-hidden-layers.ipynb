{
 "cells": [
  {
   "cell_type": "code",
   "execution_count": 1,
   "id": "0b6bdca7",
   "metadata": {
    "execution": {
     "iopub.execute_input": "2022-12-11T11:46:58.791021Z",
     "iopub.status.busy": "2022-12-11T11:46:58.790575Z",
     "iopub.status.idle": "2022-12-11T11:46:59.856029Z",
     "shell.execute_reply": "2022-12-11T11:46:59.855058Z"
    },
    "papermill": {
     "duration": 1.077595,
     "end_time": "2022-12-11T11:46:59.858494",
     "exception": false,
     "start_time": "2022-12-11T11:46:58.780899",
     "status": "completed"
    },
    "tags": []
   },
   "outputs": [],
   "source": [
    "import pandas as pd\n",
    "import numpy as np\n",
    "import matplotlib.pyplot as plt\n",
    "from sklearn.preprocessing import normalize\n",
    "from sklearn.model_selection import train_test_split\n",
    "from sklearn.preprocessing import StandardScaler\n",
    "from sklearn.neural_network import MLPClassifier\n",
    "from sklearn.metrics import classification_report, confusion_matrix"
   ]
  },
  {
   "cell_type": "code",
   "execution_count": 2,
   "id": "00cb6035",
   "metadata": {
    "execution": {
     "iopub.execute_input": "2022-12-11T11:46:59.873645Z",
     "iopub.status.busy": "2022-12-11T11:46:59.873310Z",
     "iopub.status.idle": "2022-12-11T11:46:59.894295Z",
     "shell.execute_reply": "2022-12-11T11:46:59.893240Z"
    },
    "papermill": {
     "duration": 0.031073,
     "end_time": "2022-12-11T11:46:59.896798",
     "exception": false,
     "start_time": "2022-12-11T11:46:59.865725",
     "status": "completed"
    },
    "tags": []
   },
   "outputs": [],
   "source": [
    "data = pd.read_csv(\"/kaggle/input/breast-disease/BreastCancer.csv\")"
   ]
  },
  {
   "cell_type": "code",
   "execution_count": 3,
   "id": "f4163006",
   "metadata": {
    "execution": {
     "iopub.execute_input": "2022-12-11T11:46:59.912274Z",
     "iopub.status.busy": "2022-12-11T11:46:59.911928Z",
     "iopub.status.idle": "2022-12-11T11:46:59.933535Z",
     "shell.execute_reply": "2022-12-11T11:46:59.932394Z"
    },
    "papermill": {
     "duration": 0.03166,
     "end_time": "2022-12-11T11:46:59.935584",
     "exception": false,
     "start_time": "2022-12-11T11:46:59.903924",
     "status": "completed"
    },
    "tags": []
   },
   "outputs": [
    {
     "data": {
      "text/html": [
       "<div>\n",
       "<style scoped>\n",
       "    .dataframe tbody tr th:only-of-type {\n",
       "        vertical-align: middle;\n",
       "    }\n",
       "\n",
       "    .dataframe tbody tr th {\n",
       "        vertical-align: top;\n",
       "    }\n",
       "\n",
       "    .dataframe thead th {\n",
       "        text-align: right;\n",
       "    }\n",
       "</style>\n",
       "<table border=\"1\" class=\"dataframe\">\n",
       "  <thead>\n",
       "    <tr style=\"text-align: right;\">\n",
       "      <th></th>\n",
       "      <th>Unnamed: 0</th>\n",
       "      <th>Id</th>\n",
       "      <th>Cl.thickness</th>\n",
       "      <th>Cell.size</th>\n",
       "      <th>Cell.shape</th>\n",
       "      <th>Marg.adhesion</th>\n",
       "      <th>Epith.c.size</th>\n",
       "      <th>Bare.nuclei</th>\n",
       "      <th>Bl.cromatin</th>\n",
       "      <th>Normal.nucleoli</th>\n",
       "      <th>Mitoses</th>\n",
       "      <th>Class</th>\n",
       "    </tr>\n",
       "  </thead>\n",
       "  <tbody>\n",
       "    <tr>\n",
       "      <th>0</th>\n",
       "      <td>1</td>\n",
       "      <td>1000025</td>\n",
       "      <td>5</td>\n",
       "      <td>1</td>\n",
       "      <td>1</td>\n",
       "      <td>1</td>\n",
       "      <td>2</td>\n",
       "      <td>1.0</td>\n",
       "      <td>3</td>\n",
       "      <td>1</td>\n",
       "      <td>1</td>\n",
       "      <td>benign</td>\n",
       "    </tr>\n",
       "    <tr>\n",
       "      <th>1</th>\n",
       "      <td>2</td>\n",
       "      <td>1002945</td>\n",
       "      <td>5</td>\n",
       "      <td>4</td>\n",
       "      <td>4</td>\n",
       "      <td>5</td>\n",
       "      <td>7</td>\n",
       "      <td>10.0</td>\n",
       "      <td>3</td>\n",
       "      <td>2</td>\n",
       "      <td>1</td>\n",
       "      <td>benign</td>\n",
       "    </tr>\n",
       "    <tr>\n",
       "      <th>2</th>\n",
       "      <td>3</td>\n",
       "      <td>1015425</td>\n",
       "      <td>3</td>\n",
       "      <td>1</td>\n",
       "      <td>1</td>\n",
       "      <td>1</td>\n",
       "      <td>2</td>\n",
       "      <td>2.0</td>\n",
       "      <td>3</td>\n",
       "      <td>1</td>\n",
       "      <td>1</td>\n",
       "      <td>benign</td>\n",
       "    </tr>\n",
       "    <tr>\n",
       "      <th>3</th>\n",
       "      <td>4</td>\n",
       "      <td>1016277</td>\n",
       "      <td>6</td>\n",
       "      <td>8</td>\n",
       "      <td>8</td>\n",
       "      <td>1</td>\n",
       "      <td>3</td>\n",
       "      <td>4.0</td>\n",
       "      <td>3</td>\n",
       "      <td>7</td>\n",
       "      <td>1</td>\n",
       "      <td>benign</td>\n",
       "    </tr>\n",
       "    <tr>\n",
       "      <th>4</th>\n",
       "      <td>5</td>\n",
       "      <td>1017023</td>\n",
       "      <td>4</td>\n",
       "      <td>1</td>\n",
       "      <td>1</td>\n",
       "      <td>3</td>\n",
       "      <td>2</td>\n",
       "      <td>1.0</td>\n",
       "      <td>3</td>\n",
       "      <td>1</td>\n",
       "      <td>1</td>\n",
       "      <td>benign</td>\n",
       "    </tr>\n",
       "  </tbody>\n",
       "</table>\n",
       "</div>"
      ],
      "text/plain": [
       "   Unnamed: 0       Id  Cl.thickness  Cell.size  Cell.shape  Marg.adhesion  \\\n",
       "0           1  1000025             5          1           1              1   \n",
       "1           2  1002945             5          4           4              5   \n",
       "2           3  1015425             3          1           1              1   \n",
       "3           4  1016277             6          8           8              1   \n",
       "4           5  1017023             4          1           1              3   \n",
       "\n",
       "   Epith.c.size  Bare.nuclei  Bl.cromatin  Normal.nucleoli  Mitoses   Class  \n",
       "0             2          1.0            3                1        1  benign  \n",
       "1             7         10.0            3                2        1  benign  \n",
       "2             2          2.0            3                1        1  benign  \n",
       "3             3          4.0            3                7        1  benign  \n",
       "4             2          1.0            3                1        1  benign  "
      ]
     },
     "execution_count": 3,
     "metadata": {},
     "output_type": "execute_result"
    }
   ],
   "source": [
    "data.head()"
   ]
  },
  {
   "cell_type": "code",
   "execution_count": 4,
   "id": "283485e2",
   "metadata": {
    "execution": {
     "iopub.execute_input": "2022-12-11T11:46:59.951115Z",
     "iopub.status.busy": "2022-12-11T11:46:59.950738Z",
     "iopub.status.idle": "2022-12-11T11:46:59.956772Z",
     "shell.execute_reply": "2022-12-11T11:46:59.955935Z"
    },
    "papermill": {
     "duration": 0.016246,
     "end_time": "2022-12-11T11:46:59.958988",
     "exception": false,
     "start_time": "2022-12-11T11:46:59.942742",
     "status": "completed"
    },
    "tags": []
   },
   "outputs": [
    {
     "data": {
      "text/plain": [
       "(699, 12)"
      ]
     },
     "execution_count": 4,
     "metadata": {},
     "output_type": "execute_result"
    }
   ],
   "source": [
    "data.shape"
   ]
  },
  {
   "cell_type": "code",
   "execution_count": 5,
   "id": "9a1629ba",
   "metadata": {
    "execution": {
     "iopub.execute_input": "2022-12-11T11:46:59.975967Z",
     "iopub.status.busy": "2022-12-11T11:46:59.975639Z",
     "iopub.status.idle": "2022-12-11T11:46:59.983454Z",
     "shell.execute_reply": "2022-12-11T11:46:59.982654Z"
    },
    "papermill": {
     "duration": 0.018721,
     "end_time": "2022-12-11T11:46:59.985170",
     "exception": false,
     "start_time": "2022-12-11T11:46:59.966449",
     "status": "completed"
    },
    "tags": []
   },
   "outputs": [
    {
     "data": {
      "text/plain": [
       "Unnamed: 0          0\n",
       "Id                  0\n",
       "Cl.thickness        0\n",
       "Cell.size           0\n",
       "Cell.shape          0\n",
       "Marg.adhesion       0\n",
       "Epith.c.size        0\n",
       "Bare.nuclei        16\n",
       "Bl.cromatin         0\n",
       "Normal.nucleoli     0\n",
       "Mitoses             0\n",
       "Class               0\n",
       "dtype: int64"
      ]
     },
     "execution_count": 5,
     "metadata": {},
     "output_type": "execute_result"
    }
   ],
   "source": [
    "data.isnull().sum()"
   ]
  },
  {
   "cell_type": "code",
   "execution_count": 6,
   "id": "143471e1",
   "metadata": {
    "execution": {
     "iopub.execute_input": "2022-12-11T11:47:00.002273Z",
     "iopub.status.busy": "2022-12-11T11:47:00.001937Z",
     "iopub.status.idle": "2022-12-11T11:47:00.012778Z",
     "shell.execute_reply": "2022-12-11T11:47:00.011684Z"
    },
    "papermill": {
     "duration": 0.021509,
     "end_time": "2022-12-11T11:47:00.015095",
     "exception": false,
     "start_time": "2022-12-11T11:46:59.993586",
     "status": "completed"
    },
    "tags": []
   },
   "outputs": [],
   "source": [
    "data = data.dropna()"
   ]
  },
  {
   "cell_type": "code",
   "execution_count": 7,
   "id": "2553a999",
   "metadata": {
    "execution": {
     "iopub.execute_input": "2022-12-11T11:47:00.031452Z",
     "iopub.status.busy": "2022-12-11T11:47:00.030842Z",
     "iopub.status.idle": "2022-12-11T11:47:00.036287Z",
     "shell.execute_reply": "2022-12-11T11:47:00.035667Z"
    },
    "papermill": {
     "duration": 0.015428,
     "end_time": "2022-12-11T11:47:00.038024",
     "exception": false,
     "start_time": "2022-12-11T11:47:00.022596",
     "status": "completed"
    },
    "tags": []
   },
   "outputs": [
    {
     "data": {
      "text/plain": [
       "(683, 12)"
      ]
     },
     "execution_count": 7,
     "metadata": {},
     "output_type": "execute_result"
    }
   ],
   "source": [
    "data.shape"
   ]
  },
  {
   "cell_type": "code",
   "execution_count": 8,
   "id": "11b30413",
   "metadata": {
    "execution": {
     "iopub.execute_input": "2022-12-11T11:47:00.054721Z",
     "iopub.status.busy": "2022-12-11T11:47:00.054106Z",
     "iopub.status.idle": "2022-12-11T11:47:00.074942Z",
     "shell.execute_reply": "2022-12-11T11:47:00.074064Z"
    },
    "papermill": {
     "duration": 0.031275,
     "end_time": "2022-12-11T11:47:00.076827",
     "exception": false,
     "start_time": "2022-12-11T11:47:00.045552",
     "status": "completed"
    },
    "tags": []
   },
   "outputs": [
    {
     "name": "stdout",
     "output_type": "stream",
     "text": [
      "<class 'pandas.core.frame.DataFrame'>\n",
      "Int64Index: 683 entries, 0 to 698\n",
      "Data columns (total 12 columns):\n",
      " #   Column           Non-Null Count  Dtype  \n",
      "---  ------           --------------  -----  \n",
      " 0   Unnamed: 0       683 non-null    int64  \n",
      " 1   Id               683 non-null    int64  \n",
      " 2   Cl.thickness     683 non-null    int64  \n",
      " 3   Cell.size        683 non-null    int64  \n",
      " 4   Cell.shape       683 non-null    int64  \n",
      " 5   Marg.adhesion    683 non-null    int64  \n",
      " 6   Epith.c.size     683 non-null    int64  \n",
      " 7   Bare.nuclei      683 non-null    float64\n",
      " 8   Bl.cromatin      683 non-null    int64  \n",
      " 9   Normal.nucleoli  683 non-null    int64  \n",
      " 10  Mitoses          683 non-null    int64  \n",
      " 11  Class            683 non-null    object \n",
      "dtypes: float64(1), int64(10), object(1)\n",
      "memory usage: 69.4+ KB\n"
     ]
    }
   ],
   "source": [
    "data.info()"
   ]
  },
  {
   "cell_type": "code",
   "execution_count": 9,
   "id": "9667abbe",
   "metadata": {
    "execution": {
     "iopub.execute_input": "2022-12-11T11:47:00.093515Z",
     "iopub.status.busy": "2022-12-11T11:47:00.092943Z",
     "iopub.status.idle": "2022-12-11T11:47:00.098076Z",
     "shell.execute_reply": "2022-12-11T11:47:00.097225Z"
    },
    "papermill": {
     "duration": 0.015505,
     "end_time": "2022-12-11T11:47:00.099893",
     "exception": false,
     "start_time": "2022-12-11T11:47:00.084388",
     "status": "completed"
    },
    "tags": []
   },
   "outputs": [],
   "source": [
    "X = data.iloc[:, 2:10]"
   ]
  },
  {
   "cell_type": "code",
   "execution_count": 10,
   "id": "7c60fe79",
   "metadata": {
    "execution": {
     "iopub.execute_input": "2022-12-11T11:47:00.117925Z",
     "iopub.status.busy": "2022-12-11T11:47:00.117528Z",
     "iopub.status.idle": "2022-12-11T11:47:00.124333Z",
     "shell.execute_reply": "2022-12-11T11:47:00.122875Z"
    },
    "papermill": {
     "duration": 0.01864,
     "end_time": "2022-12-11T11:47:00.126761",
     "exception": false,
     "start_time": "2022-12-11T11:47:00.108121",
     "status": "completed"
    },
    "tags": []
   },
   "outputs": [
    {
     "data": {
      "text/plain": [
       "(683, 8)"
      ]
     },
     "execution_count": 10,
     "metadata": {},
     "output_type": "execute_result"
    }
   ],
   "source": [
    "X.shape"
   ]
  },
  {
   "cell_type": "code",
   "execution_count": 11,
   "id": "6a2d77b8",
   "metadata": {
    "execution": {
     "iopub.execute_input": "2022-12-11T11:47:00.143716Z",
     "iopub.status.busy": "2022-12-11T11:47:00.143303Z",
     "iopub.status.idle": "2022-12-11T11:47:00.147770Z",
     "shell.execute_reply": "2022-12-11T11:47:00.146907Z"
    },
    "papermill": {
     "duration": 0.014941,
     "end_time": "2022-12-11T11:47:00.149532",
     "exception": false,
     "start_time": "2022-12-11T11:47:00.134591",
     "status": "completed"
    },
    "tags": []
   },
   "outputs": [],
   "source": [
    "y = data.iloc[:, 11]"
   ]
  },
  {
   "cell_type": "code",
   "execution_count": 12,
   "id": "e25142ba",
   "metadata": {
    "execution": {
     "iopub.execute_input": "2022-12-11T11:47:00.167062Z",
     "iopub.status.busy": "2022-12-11T11:47:00.166375Z",
     "iopub.status.idle": "2022-12-11T11:47:00.172172Z",
     "shell.execute_reply": "2022-12-11T11:47:00.171087Z"
    },
    "papermill": {
     "duration": 0.016742,
     "end_time": "2022-12-11T11:47:00.173947",
     "exception": false,
     "start_time": "2022-12-11T11:47:00.157205",
     "status": "completed"
    },
    "tags": []
   },
   "outputs": [
    {
     "data": {
      "text/plain": [
       "(683,)"
      ]
     },
     "execution_count": 12,
     "metadata": {},
     "output_type": "execute_result"
    }
   ],
   "source": [
    "y.shape"
   ]
  },
  {
   "cell_type": "code",
   "execution_count": 13,
   "id": "b504568a",
   "metadata": {
    "execution": {
     "iopub.execute_input": "2022-12-11T11:47:00.191590Z",
     "iopub.status.busy": "2022-12-11T11:47:00.190683Z",
     "iopub.status.idle": "2022-12-11T11:47:00.195979Z",
     "shell.execute_reply": "2022-12-11T11:47:00.195384Z"
    },
    "papermill": {
     "duration": 0.015755,
     "end_time": "2022-12-11T11:47:00.197530",
     "exception": false,
     "start_time": "2022-12-11T11:47:00.181775",
     "status": "completed"
    },
    "tags": []
   },
   "outputs": [
    {
     "data": {
      "text/plain": [
       "dtype('O')"
      ]
     },
     "execution_count": 13,
     "metadata": {},
     "output_type": "execute_result"
    }
   ],
   "source": [
    "y.dtype"
   ]
  },
  {
   "cell_type": "code",
   "execution_count": 14,
   "id": "490cd8a0",
   "metadata": {
    "execution": {
     "iopub.execute_input": "2022-12-11T11:47:00.215366Z",
     "iopub.status.busy": "2022-12-11T11:47:00.214773Z",
     "iopub.status.idle": "2022-12-11T11:47:00.219596Z",
     "shell.execute_reply": "2022-12-11T11:47:00.218978Z"
    },
    "papermill": {
     "duration": 0.015767,
     "end_time": "2022-12-11T11:47:00.221252",
     "exception": false,
     "start_time": "2022-12-11T11:47:00.205485",
     "status": "completed"
    },
    "tags": []
   },
   "outputs": [],
   "source": [
    "X_train, X_test, y_train, y_test = train_test_split(X, y)"
   ]
  },
  {
   "cell_type": "code",
   "execution_count": 15,
   "id": "4a70e638",
   "metadata": {
    "execution": {
     "iopub.execute_input": "2022-12-11T11:47:00.238320Z",
     "iopub.status.busy": "2022-12-11T11:47:00.237790Z",
     "iopub.status.idle": "2022-12-11T11:47:00.241199Z",
     "shell.execute_reply": "2022-12-11T11:47:00.240639Z"
    },
    "papermill": {
     "duration": 0.013773,
     "end_time": "2022-12-11T11:47:00.242743",
     "exception": false,
     "start_time": "2022-12-11T11:47:00.228970",
     "status": "completed"
    },
    "tags": []
   },
   "outputs": [],
   "source": [
    "scaler = StandardScaler()"
   ]
  },
  {
   "cell_type": "code",
   "execution_count": 16,
   "id": "e1c7fda5",
   "metadata": {
    "execution": {
     "iopub.execute_input": "2022-12-11T11:47:00.260211Z",
     "iopub.status.busy": "2022-12-11T11:47:00.259652Z",
     "iopub.status.idle": "2022-12-11T11:47:00.268040Z",
     "shell.execute_reply": "2022-12-11T11:47:00.267406Z"
    },
    "papermill": {
     "duration": 0.018485,
     "end_time": "2022-12-11T11:47:00.269531",
     "exception": false,
     "start_time": "2022-12-11T11:47:00.251046",
     "status": "completed"
    },
    "tags": []
   },
   "outputs": [
    {
     "data": {
      "text/plain": [
       "StandardScaler()"
      ]
     },
     "execution_count": 16,
     "metadata": {},
     "output_type": "execute_result"
    }
   ],
   "source": [
    "scaler.fit(X_train)"
   ]
  },
  {
   "cell_type": "code",
   "execution_count": 17,
   "id": "073217eb",
   "metadata": {
    "execution": {
     "iopub.execute_input": "2022-12-11T11:47:00.286502Z",
     "iopub.status.busy": "2022-12-11T11:47:00.285919Z",
     "iopub.status.idle": "2022-12-11T11:47:00.291669Z",
     "shell.execute_reply": "2022-12-11T11:47:00.291042Z"
    },
    "papermill": {
     "duration": 0.016863,
     "end_time": "2022-12-11T11:47:00.294045",
     "exception": false,
     "start_time": "2022-12-11T11:47:00.277182",
     "status": "completed"
    },
    "tags": []
   },
   "outputs": [],
   "source": [
    "X_train = scaler.transform(X_train)"
   ]
  },
  {
   "cell_type": "code",
   "execution_count": 18,
   "id": "1de0d0a0",
   "metadata": {
    "execution": {
     "iopub.execute_input": "2022-12-11T11:47:00.312242Z",
     "iopub.status.busy": "2022-12-11T11:47:00.311654Z",
     "iopub.status.idle": "2022-12-11T11:47:00.317579Z",
     "shell.execute_reply": "2022-12-11T11:47:00.316630Z"
    },
    "papermill": {
     "duration": 0.017057,
     "end_time": "2022-12-11T11:47:00.319415",
     "exception": false,
     "start_time": "2022-12-11T11:47:00.302358",
     "status": "completed"
    },
    "tags": []
   },
   "outputs": [
    {
     "data": {
      "text/plain": [
       "array([[-1.2001128 , -0.04874055, -0.08496608, ..., -0.69042219,\n",
       "         1.42172642, -0.28715754],\n",
       "       [-0.14191919, -0.70545527, -0.74409692, ..., -0.69042219,\n",
       "        -0.59356685, -0.61315457],\n",
       "       [-1.2001128 , -0.70545527, -0.08496608, ..., -0.69042219,\n",
       "        -0.59356685, -0.61315457],\n",
       "       ...,\n",
       "       [-1.2001128 , -0.70545527, -0.4145315 , ..., -0.69042219,\n",
       "        -0.19050819, -0.61315457],\n",
       "       [-0.49465039,  0.27961681,  0.57416475, ..., -0.14699996,\n",
       "         0.21255046,  1.01683058],\n",
       "       [-1.2001128 , -0.70545527, -0.74409692, ..., -0.69042219,\n",
       "        -0.59356685, -0.61315457]])"
      ]
     },
     "execution_count": 18,
     "metadata": {},
     "output_type": "execute_result"
    }
   ],
   "source": [
    "X_train"
   ]
  },
  {
   "cell_type": "code",
   "execution_count": 19,
   "id": "180c0a69",
   "metadata": {
    "execution": {
     "iopub.execute_input": "2022-12-11T11:47:00.337164Z",
     "iopub.status.busy": "2022-12-11T11:47:00.336061Z",
     "iopub.status.idle": "2022-12-11T11:47:00.341525Z",
     "shell.execute_reply": "2022-12-11T11:47:00.340941Z"
    },
    "papermill": {
     "duration": 0.016627,
     "end_time": "2022-12-11T11:47:00.343976",
     "exception": false,
     "start_time": "2022-12-11T11:47:00.327349",
     "status": "completed"
    },
    "tags": []
   },
   "outputs": [
    {
     "data": {
      "text/plain": [
       "(512, 8)"
      ]
     },
     "execution_count": 19,
     "metadata": {},
     "output_type": "execute_result"
    }
   ],
   "source": [
    "X_train.shape"
   ]
  },
  {
   "cell_type": "code",
   "execution_count": 20,
   "id": "d773d72e",
   "metadata": {
    "execution": {
     "iopub.execute_input": "2022-12-11T11:47:00.364685Z",
     "iopub.status.busy": "2022-12-11T11:47:00.364070Z",
     "iopub.status.idle": "2022-12-11T11:47:00.369343Z",
     "shell.execute_reply": "2022-12-11T11:47:00.368679Z"
    },
    "papermill": {
     "duration": 0.018625,
     "end_time": "2022-12-11T11:47:00.371373",
     "exception": false,
     "start_time": "2022-12-11T11:47:00.352748",
     "status": "completed"
    },
    "tags": []
   },
   "outputs": [],
   "source": [
    "X_test = scaler.transform(X_test)"
   ]
  },
  {
   "cell_type": "code",
   "execution_count": 21,
   "id": "483fe3d4",
   "metadata": {
    "execution": {
     "iopub.execute_input": "2022-12-11T11:47:00.390066Z",
     "iopub.status.busy": "2022-12-11T11:47:00.389658Z",
     "iopub.status.idle": "2022-12-11T11:47:00.396336Z",
     "shell.execute_reply": "2022-12-11T11:47:00.395652Z"
    },
    "papermill": {
     "duration": 0.017855,
     "end_time": "2022-12-11T11:47:00.397989",
     "exception": false,
     "start_time": "2022-12-11T11:47:00.380134",
     "status": "completed"
    },
    "tags": []
   },
   "outputs": [
    {
     "data": {
      "text/plain": [
       "array([[ 0.56354321,  2.24976098,  2.22199183, ...,  1.75497785,\n",
       "         1.82478508,  2.3208187 ],\n",
       "       [-0.49465039, -0.70545527, -0.74409692, ..., -0.69042219,\n",
       "        -0.19050819, -0.61315457],\n",
       "       [-1.2001128 , -0.70545527, -0.74409692, ..., -0.69042219,\n",
       "        -0.59356685, -0.61315457],\n",
       "       ...,\n",
       "       [ 0.21081201, -0.70545527, -0.74409692, ..., -0.69042219,\n",
       "        -0.59356685, -0.28715754],\n",
       "       [-0.14191919, -0.70545527, -0.74409692, ..., -0.69042219,\n",
       "        -0.19050819, -0.61315457],\n",
       "       [-1.2001128 , -0.70545527, -0.4145315 , ..., -0.69042219,\n",
       "        -0.59356685, -0.61315457]])"
      ]
     },
     "execution_count": 21,
     "metadata": {},
     "output_type": "execute_result"
    }
   ],
   "source": [
    "X_test"
   ]
  },
  {
   "cell_type": "code",
   "execution_count": 22,
   "id": "a4ab3220",
   "metadata": {
    "execution": {
     "iopub.execute_input": "2022-12-11T11:47:00.416362Z",
     "iopub.status.busy": "2022-12-11T11:47:00.415804Z",
     "iopub.status.idle": "2022-12-11T11:47:00.420907Z",
     "shell.execute_reply": "2022-12-11T11:47:00.420116Z"
    },
    "papermill": {
     "duration": 0.016271,
     "end_time": "2022-12-11T11:47:00.422496",
     "exception": false,
     "start_time": "2022-12-11T11:47:00.406225",
     "status": "completed"
    },
    "tags": []
   },
   "outputs": [
    {
     "data": {
      "text/plain": [
       "(171, 8)"
      ]
     },
     "execution_count": 22,
     "metadata": {},
     "output_type": "execute_result"
    }
   ],
   "source": [
    "X_test.shape"
   ]
  },
  {
   "cell_type": "code",
   "execution_count": 23,
   "id": "7b9c2a6d",
   "metadata": {
    "execution": {
     "iopub.execute_input": "2022-12-11T11:47:00.439850Z",
     "iopub.status.busy": "2022-12-11T11:47:00.439467Z",
     "iopub.status.idle": "2022-12-11T11:47:00.443832Z",
     "shell.execute_reply": "2022-12-11T11:47:00.442894Z"
    },
    "papermill": {
     "duration": 0.015042,
     "end_time": "2022-12-11T11:47:00.445399",
     "exception": false,
     "start_time": "2022-12-11T11:47:00.430357",
     "status": "completed"
    },
    "tags": []
   },
   "outputs": [],
   "source": [
    "mlp = MLPClassifier(hidden_layer_sizes=(30,30,30))"
   ]
  },
  {
   "cell_type": "code",
   "execution_count": 24,
   "id": "cb7658c3",
   "metadata": {
    "execution": {
     "iopub.execute_input": "2022-12-11T11:47:00.463822Z",
     "iopub.status.busy": "2022-12-11T11:47:00.462536Z",
     "iopub.status.idle": "2022-12-11T11:47:00.899468Z",
     "shell.execute_reply": "2022-12-11T11:47:00.898237Z"
    },
    "papermill": {
     "duration": 0.448667,
     "end_time": "2022-12-11T11:47:00.902001",
     "exception": false,
     "start_time": "2022-12-11T11:47:00.453334",
     "status": "completed"
    },
    "tags": []
   },
   "outputs": [
    {
     "name": "stderr",
     "output_type": "stream",
     "text": [
      "/opt/conda/lib/python3.7/site-packages/sklearn/neural_network/_multilayer_perceptron.py:696: ConvergenceWarning: Stochastic Optimizer: Maximum iterations (200) reached and the optimization hasn't converged yet.\n",
      "  ConvergenceWarning,\n"
     ]
    },
    {
     "data": {
      "text/plain": [
       "MLPClassifier(hidden_layer_sizes=(30, 30, 30))"
      ]
     },
     "execution_count": 24,
     "metadata": {},
     "output_type": "execute_result"
    }
   ],
   "source": [
    "mlp.fit(X_train, y_train)"
   ]
  },
  {
   "cell_type": "code",
   "execution_count": 25,
   "id": "7d56ad22",
   "metadata": {
    "execution": {
     "iopub.execute_input": "2022-12-11T11:47:00.919810Z",
     "iopub.status.busy": "2022-12-11T11:47:00.919443Z",
     "iopub.status.idle": "2022-12-11T11:47:00.925301Z",
     "shell.execute_reply": "2022-12-11T11:47:00.923974Z"
    },
    "papermill": {
     "duration": 0.017448,
     "end_time": "2022-12-11T11:47:00.927805",
     "exception": false,
     "start_time": "2022-12-11T11:47:00.910357",
     "status": "completed"
    },
    "tags": []
   },
   "outputs": [],
   "source": [
    "predictions = mlp.predict(X_test)"
   ]
  },
  {
   "cell_type": "code",
   "execution_count": 26,
   "id": "2d475556",
   "metadata": {
    "execution": {
     "iopub.execute_input": "2022-12-11T11:47:00.946533Z",
     "iopub.status.busy": "2022-12-11T11:47:00.946181Z",
     "iopub.status.idle": "2022-12-11T11:47:00.953070Z",
     "shell.execute_reply": "2022-12-11T11:47:00.952049Z"
    },
    "papermill": {
     "duration": 0.01831,
     "end_time": "2022-12-11T11:47:00.954824",
     "exception": false,
     "start_time": "2022-12-11T11:47:00.936514",
     "status": "completed"
    },
    "tags": []
   },
   "outputs": [
    {
     "data": {
      "text/plain": [
       "array(['malignant', 'benign', 'benign', 'benign', 'malignant', 'benign',\n",
       "       'malignant', 'benign', 'benign', 'benign', 'benign', 'malignant',\n",
       "       'benign', 'benign', 'benign', 'malignant', 'malignant',\n",
       "       'malignant', 'benign', 'malignant', 'benign', 'benign',\n",
       "       'malignant', 'benign', 'malignant', 'malignant', 'benign',\n",
       "       'benign', 'benign', 'benign', 'benign', 'benign', 'malignant',\n",
       "       'benign', 'benign', 'benign', 'benign', 'benign', 'malignant',\n",
       "       'benign', 'benign', 'benign', 'malignant', 'benign', 'benign',\n",
       "       'malignant', 'benign', 'benign', 'benign', 'malignant', 'benign',\n",
       "       'malignant', 'malignant', 'benign', 'benign', 'benign',\n",
       "       'malignant', 'malignant', 'malignant', 'benign', 'benign',\n",
       "       'benign', 'benign', 'benign', 'malignant', 'benign', 'benign',\n",
       "       'benign', 'malignant', 'benign', 'benign', 'benign', 'malignant',\n",
       "       'benign', 'benign', 'benign', 'malignant', 'benign', 'malignant',\n",
       "       'benign', 'benign', 'malignant', 'benign', 'benign', 'benign',\n",
       "       'benign', 'benign', 'benign', 'benign', 'benign', 'benign',\n",
       "       'malignant', 'benign', 'benign', 'malignant', 'benign',\n",
       "       'malignant', 'benign', 'malignant', 'benign', 'benign', 'benign',\n",
       "       'benign', 'malignant', 'benign', 'benign', 'benign', 'malignant',\n",
       "       'malignant', 'benign', 'benign', 'malignant', 'malignant',\n",
       "       'malignant', 'malignant', 'benign', 'benign', 'benign', 'benign',\n",
       "       'malignant', 'benign', 'benign', 'benign', 'benign', 'benign',\n",
       "       'malignant', 'benign', 'benign', 'malignant', 'malignant',\n",
       "       'malignant', 'benign', 'benign', 'malignant', 'benign', 'benign',\n",
       "       'benign', 'benign', 'malignant', 'benign', 'malignant',\n",
       "       'malignant', 'malignant', 'malignant', 'malignant', 'malignant',\n",
       "       'benign', 'malignant', 'benign', 'malignant', 'malignant',\n",
       "       'malignant', 'benign', 'malignant', 'malignant', 'malignant',\n",
       "       'benign', 'malignant', 'benign', 'benign', 'malignant', 'benign',\n",
       "       'malignant', 'malignant', 'malignant', 'benign', 'benign',\n",
       "       'benign', 'benign', 'benign', 'benign'], dtype='<U9')"
      ]
     },
     "execution_count": 26,
     "metadata": {},
     "output_type": "execute_result"
    }
   ],
   "source": [
    "predictions"
   ]
  },
  {
   "cell_type": "code",
   "execution_count": 27,
   "id": "08aab92b",
   "metadata": {
    "execution": {
     "iopub.execute_input": "2022-12-11T11:47:00.973833Z",
     "iopub.status.busy": "2022-12-11T11:47:00.973188Z",
     "iopub.status.idle": "2022-12-11T11:47:00.983860Z",
     "shell.execute_reply": "2022-12-11T11:47:00.982823Z"
    },
    "papermill": {
     "duration": 0.022458,
     "end_time": "2022-12-11T11:47:00.985949",
     "exception": false,
     "start_time": "2022-12-11T11:47:00.963491",
     "status": "completed"
    },
    "tags": []
   },
   "outputs": [
    {
     "name": "stdout",
     "output_type": "stream",
     "text": [
      "[[106   4]\n",
      " [  2  59]]\n"
     ]
    }
   ],
   "source": [
    "print(confusion_matrix(y_test, predictions))"
   ]
  },
  {
   "cell_type": "code",
   "execution_count": 28,
   "id": "370df24d",
   "metadata": {
    "execution": {
     "iopub.execute_input": "2022-12-11T11:47:01.005371Z",
     "iopub.status.busy": "2022-12-11T11:47:01.005020Z",
     "iopub.status.idle": "2022-12-11T11:47:01.017002Z",
     "shell.execute_reply": "2022-12-11T11:47:01.016097Z"
    },
    "papermill": {
     "duration": 0.024008,
     "end_time": "2022-12-11T11:47:01.018882",
     "exception": false,
     "start_time": "2022-12-11T11:47:00.994874",
     "status": "completed"
    },
    "tags": []
   },
   "outputs": [
    {
     "name": "stdout",
     "output_type": "stream",
     "text": [
      "              precision    recall  f1-score   support\n",
      "\n",
      "      benign       0.98      0.96      0.97       110\n",
      "   malignant       0.94      0.97      0.95        61\n",
      "\n",
      "    accuracy                           0.96       171\n",
      "   macro avg       0.96      0.97      0.96       171\n",
      "weighted avg       0.97      0.96      0.97       171\n",
      "\n"
     ]
    }
   ],
   "source": [
    "print(classification_report(y_test, predictions))"
   ]
  },
  {
   "cell_type": "code",
   "execution_count": 29,
   "id": "a5389a29",
   "metadata": {
    "execution": {
     "iopub.execute_input": "2022-12-11T11:47:01.038089Z",
     "iopub.status.busy": "2022-12-11T11:47:01.037727Z",
     "iopub.status.idle": "2022-12-11T11:47:01.041349Z",
     "shell.execute_reply": "2022-12-11T11:47:01.040721Z"
    },
    "papermill": {
     "duration": 0.015097,
     "end_time": "2022-12-11T11:47:01.042865",
     "exception": false,
     "start_time": "2022-12-11T11:47:01.027768",
     "status": "completed"
    },
    "tags": []
   },
   "outputs": [],
   "source": [
    "from sklearn import metrics\n",
    "from sklearn.metrics import roc_curve"
   ]
  },
  {
   "cell_type": "code",
   "execution_count": 30,
   "id": "605e0557",
   "metadata": {
    "execution": {
     "iopub.execute_input": "2022-12-11T11:47:01.061828Z",
     "iopub.status.busy": "2022-12-11T11:47:01.061202Z",
     "iopub.status.idle": "2022-12-11T11:47:01.066315Z",
     "shell.execute_reply": "2022-12-11T11:47:01.065578Z"
    },
    "papermill": {
     "duration": 0.016567,
     "end_time": "2022-12-11T11:47:01.068024",
     "exception": false,
     "start_time": "2022-12-11T11:47:01.051457",
     "status": "completed"
    },
    "tags": []
   },
   "outputs": [],
   "source": [
    "y_pred_prob = mlp.predict_proba(X_test)[:, 1]"
   ]
  },
  {
   "cell_type": "code",
   "execution_count": 31,
   "id": "2e0865cf",
   "metadata": {
    "execution": {
     "iopub.execute_input": "2022-12-11T11:47:01.087273Z",
     "iopub.status.busy": "2022-12-11T11:47:01.086549Z",
     "iopub.status.idle": "2022-12-11T11:47:01.094378Z",
     "shell.execute_reply": "2022-12-11T11:47:01.093416Z"
    },
    "papermill": {
     "duration": 0.020181,
     "end_time": "2022-12-11T11:47:01.096767",
     "exception": false,
     "start_time": "2022-12-11T11:47:01.076586",
     "status": "completed"
    },
    "tags": []
   },
   "outputs": [],
   "source": [
    "fpr, tpr, thresholds = roc_curve(y_test, y_pred_prob, pos_label='malignant')"
   ]
  },
  {
   "cell_type": "code",
   "execution_count": 32,
   "id": "983c9c23",
   "metadata": {
    "execution": {
     "iopub.execute_input": "2022-12-11T11:47:01.115274Z",
     "iopub.status.busy": "2022-12-11T11:47:01.114916Z",
     "iopub.status.idle": "2022-12-11T11:47:01.121484Z",
     "shell.execute_reply": "2022-12-11T11:47:01.120899Z"
    },
    "papermill": {
     "duration": 0.018418,
     "end_time": "2022-12-11T11:47:01.123738",
     "exception": false,
     "start_time": "2022-12-11T11:47:01.105320",
     "status": "completed"
    },
    "tags": []
   },
   "outputs": [],
   "source": [
    "auc = metrics.roc_auc_score(y_test, y_pred_prob)"
   ]
  },
  {
   "cell_type": "code",
   "execution_count": 33,
   "id": "3caf6cf1",
   "metadata": {
    "execution": {
     "iopub.execute_input": "2022-12-11T11:47:01.142970Z",
     "iopub.status.busy": "2022-12-11T11:47:01.142352Z",
     "iopub.status.idle": "2022-12-11T11:47:01.302975Z",
     "shell.execute_reply": "2022-12-11T11:47:01.302303Z"
    },
    "papermill": {
     "duration": 0.172408,
     "end_time": "2022-12-11T11:47:01.304838",
     "exception": false,
     "start_time": "2022-12-11T11:47:01.132430",
     "status": "completed"
    },
    "tags": []
   },
   "outputs": [
    {
     "data": {
      "image/png": "[encoded data removed]",
      "text/plain": [
       "<Figure size 432x288 with 1 Axes>"
      ]
     },
     "metadata": {
      "needs_background": "light"
     },
     "output_type": "display_data"
    }
   ],
   "source": [
    "plt.figure()\n",
    "lw = 2\n",
    "plt.plot(fpr, tpr, color='darkorange', lw=lw, label='ROC CURVE(area=%0.2f)' % auc)\n",
    "plt.plot([0,1], [0,1], color='navy', lw=lw, linestyle='--')\n",
    "plt.xlim([0.0, 1.0])\n",
    "plt.ylim([0.0, 1.05])\n",
    "plt.xlabel('False Positive Rate')\n",
    "plt.ylabel('True Positive Rate')\n",
    "plt.title('ROC Curve')\n",
    "plt.legend(loc='lower right')\n",
    "plt.show()"
   ]
  }
 ],
 "metadata": {
  "kernelspec": {
   "display_name": "Python 3",
   "language": "python",
   "name": "python3"
  },
  "language_info": {
   "codemirror_mode": {
    "name": "ipython",
    "version": 3
   },
   "file_extension": ".py",
   "mimetype": "text/x-python",
   "name": "python",
   "nbconvert_exporter": "python",
   "pygments_lexer": "ipython3",
   "version": "3.7.12"
  },
  "papermill": {
   "default_parameters": {},
   "duration": 10.479089,
   "end_time": "2022-12-11T11:47:02.035542",
   "environment_variables": {},
   "exception": null,
   "input_path": "__notebook__.ipynb",
   "output_path": "__notebook__.ipynb",
   "parameters": {},
   "start_time": "2022-12-11T11:46:51.556453",
   "version": "2.3.4"
  }
 },
 "nbformat": 4,
 "nbformat_minor": 5
}
